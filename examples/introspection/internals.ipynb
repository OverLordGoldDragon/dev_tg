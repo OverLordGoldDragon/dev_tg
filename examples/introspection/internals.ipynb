{
 "cells": [
  {
   "cell_type": "markdown",
   "metadata": {},
   "source": [
    "# Inspecting internals\n",
    "This example assumes you've read `advanced.ipynb`, and covers:\n",
    "\n",
    "   - Inspecting useful internal `TrainGenerator` & `DataGenerator` attributes\n",
    "   - Inspecting train / validation interruptions"
   ]
  },
  {
   "cell_type": "code",
   "execution_count": 1,
   "metadata": {},
   "outputs": [],
   "source": [
    "import deeptrain\n",
    "deeptrain.util.misc.append_examples_dir_to_sys_path()  # for `from utils import`\n",
    "\n",
    "from utils import make_autoencoder, init_session\n",
    "from utils import AE_CONFIGS as C"
   ]
  },
  {
   "cell_type": "markdown",
   "metadata": {},
   "source": [
    "### Configure & train"
   ]
  },
  {
   "cell_type": "code",
   "execution_count": 2,
   "metadata": {},
   "outputs": [
    {
     "name": "stdout",
     "output_type": "stream",
     "text": [
      "\u001b[31mWARNING:\u001b[0m multiple file extensions found in `path`; only .npy will be used \n",
      "Discovered 48 files with matching format\n",
      "48 set nums inferred; if more are expected, ensure file names contain a common substring w/ a number (e.g. 'train1.npy', 'train2.npy', etc)\n",
      "DataGenerator initiated\n",
      "\n",
      "\u001b[31mWARNING:\u001b[0m multiple file extensions found in `path`; only .npy will be used \n",
      "Discovered 36 files with matching format\n",
      "36 set nums inferred; if more are expected, ensure file names contain a common substring w/ a number (e.g. 'train1.npy', 'train2.npy', etc)\n",
      "DataGenerator initiated\n",
      "\n",
      "\u001b[34mNOTE:\u001b[0m will exclude `labels` from saving when `input_as_labels=True`; to keep 'labels', add '{labels}'to `saveskip_list` instead\n",
      "Preloading superbatch ... \u001b[31mWARNING:\u001b[0m multiple file extensions found in `path`; only .npy will be used \n",
      "Discovered 48 files with matching format\n",
      "................................................ finished, w/ 6144 total samples\n",
      "Train initial data prepared\n",
      "Preloading superbatch ... \u001b[31mWARNING:\u001b[0m multiple file extensions found in `path`; only .npy will be used \n",
      "Discovered 36 files with matching format\n",
      ".................................... finished, w/ 4608 total samples\n",
      "Val initial data prepared\n",
      "Logging ON; directory (new): C:\\deeptrain\\examples\\dir\\logs\\M5__model-nadam__min999.000\n",
      "\n",
      "Data set_nums shuffled\n",
      "\n",
      "\n",
      "_____________________\n",
      "\u001b[4m EPOCH 1 -- COMPLETE \u001b[0m\n",
      "\n",
      "\n",
      "\n",
      "Validating...\n",
      "TrainGenerator state saved\n",
      "Model report generated and saved\n",
      "Best model saved to C:\\deeptrain\\examples\\dir\\models\\M5__model-nadam__min.144\n",
      "TrainGenerator state saved\n",
      "Model report generated and saved\n"
     ]
    },
    {
     "data": {
      "image/png": "[encoded data removed]",
      "text/plain": [
       "<Figure size 705.6x277.2 with 1 Axes>"
      ]
     },
     "metadata": {
      "image/png": {
       "height": 243,
       "width": 590
      },
      "needs_background": "light"
     },
     "output_type": "display_data"
    },
    {
     "name": "stdout",
     "output_type": "stream",
     "text": [
      "Training has concluded.\n"
     ]
    }
   ],
   "source": [
    "C['traingen']['epochs'] = 1  # don't need more\n",
    "C['traingen']['iter_verbosity'] = 0  # don't need progress printing here\n",
    "tg = init_session(C, make_autoencoder)\n",
    "dg = tg.datagen\n",
    "vdg = tg.val_datagen\n",
    "\n",
    "tg.train()"
   ]
  },
  {
   "cell_type": "markdown",
   "metadata": {},
   "source": [
    "### Arguments passed to TrainGenerator\n",
    "Can see the arguments passed at `__init__`; this is saved in the state file, useful for seeing how exactly training was instantiated. Some objects are stored as string to allow pickling"
   ]
  },
  {
   "cell_type": "code",
   "execution_count": 3,
   "metadata": {},
   "outputs": [
    {
     "name": "stdout",
     "output_type": "stream",
     "text": [
      "{'best_models_dir': 'C:\\\\deeptrain\\\\examples\\\\dir\\\\models',\n",
      " 'datagen': 'DataGenerator',\n",
      " 'epochs': 1,\n",
      " 'eval_fn': 'predict',\n",
      " 'input_as_labels': True,\n",
      " 'iter_verbosity': 0,\n",
      " 'logs_dir': 'C:\\\\deeptrain\\\\examples\\\\dir\\\\logs',\n",
      " 'max_is_best': False,\n",
      " 'model': 'Functional',\n",
      " 'model_configs': {'activation': ['relu', 'relu', 'relu', 'relu', 'relu'],\n",
      "                   'batch_shape': (128, 28, 28, 1),\n",
      "                   'filters': [6, 12, 2, 6, 12],\n",
      "                   'input_dropout': 0.5,\n",
      "                   'kernel_size': [(3, 3), (3, 3), (3, 3), (3, 3), (3, 3)],\n",
      "                   'loss': 'mse',\n",
      "                   'metrics': None,\n",
      "                   'optimizer': 'nadam',\n",
      "                   'preout_dropout': 0.4,\n",
      "                   'strides': [(2, 2), (2, 2), 1, 1, 1],\n",
      "                   'up_sampling_2d': [None, None, None, (2, 2), (2, 2)]},\n",
      " 'plot_configs': {'0': {'legend_kw': {'fontsize': 11}}},\n",
      " 'val_datagen': 'DataGenerator'}\n"
     ]
    }
   ],
   "source": [
    "from pprint import pprint\n",
    "pprint(tg._passed_args)"
   ]
  },
  {
   "cell_type": "markdown",
   "metadata": {},
   "source": [
    "### Code used in training & initial attributes\n",
    "\n",
    "   - `TrainGenerator`'s attributes at end of `__init__` are logged at end of `TrainGenerator.__init__`\n",
    "     - savepath: `logdir/misc/init_state.json`\n",
    "   - Source code used to run training (`__main__`) is also logged, assuming ran as a `.py` file (not IPython\n",
    "     excerpt or Jupyter notebook)\n",
    "     - savepath: `logdir/misc/init_script.txt`"
   ]
  },
  {
   "cell_type": "code",
   "execution_count": 4,
   "metadata": {},
   "outputs": [
    {
     "name": "stdout",
     "output_type": "stream",
     "text": [
      "{'_batches_fit': '0',\n",
      " '_batches_validated': '0',\n",
      " '_class_labels_cache': '[]',\n",
      " '_epoch': '0',\n",
      " '_eval_fn': 'fn',\n",
      " '_eval_fn_name': 'predict',\n",
      " '_fit_fn': 'fn',\n",
      " '_fit_fn_name': 'train_on_batch',\n",
      " '_fit_iters': '0',\n",
      " '_hist_vlines': '[]',\n",
      " '_history_fig': 'None',\n",
      " '_imports': \"{'PIL': 1, 'LZ4F': 1}\",\n",
      " '_inferred_batch_size': 'None',\n",
      " '_init_callbacks_called': 'True',\n",
      " '_labels': '[]',\n",
      " '_labels_cache': '[]',\n",
      " '_max_set_name_chars': '3',\n",
      " '_passed_args': 'dict',\n",
      " '_preds_cache': '[]',\n",
      " '_save_from_on_val_end': 'False',\n",
      " '_set_name': '1',\n",
      " '_set_name_cache': '[]',\n",
      " '_set_num': '1',\n",
      " '_sw_cache': '[]',\n",
      " '_temp_history_empty': \"{'loss': []}\",\n",
      " '_times_validated': '0',\n",
      " '_train_loop_done': 'False',\n",
      " '_train_new_batch_notified': 'False',\n",
      " '_train_postiter_processed': 'True',\n",
      " '_train_val_x_ticks': '[]',\n",
      " '_train_x_ticks': '[]',\n",
      " '_val_epoch': '0',\n",
      " '_val_hist_vlines': '[]',\n",
      " '_val_iters': '0',\n",
      " '_val_loop_done': 'False',\n",
      " '_val_max_set_name_chars': '2',\n",
      " '_val_new_batch_notified': 'False',\n",
      " '_val_postiter_processed': 'True',\n",
      " '_val_set_name': '1',\n",
      " '_val_set_name_cache': '[]',\n",
      " '_val_set_num': '1',\n",
      " '_val_temp_history_empty': \"{'loss': []}\",\n",
      " '_val_train_x_ticks': '[]',\n",
      " '_val_x_ticks': '[]',\n",
      " 'alias_to_metric': \"{'acc': 'accuracy', 'mae': 'mean_absolute_error', 'mse': \"\n",
      "                    \"'mean_squared_error', 'mape': \"\n",
      "                    \"'mean_absolute_percentage_error', 'msle': \"\n",
      "                    \"'mean_squared_logarithmic_error', 'kld': \"\n",
      "                    \"'kullback_leibler_divergence', 'cosine': \"\n",
      "                    \"'cosine_similarity', 'f1': 'f1_score', 'f1-score': \"\n",
      "                    \"'f1_score'}\",\n",
      " 'batch_size': '128',\n",
      " 'best_key_metric': '999',\n",
      " 'best_models_dir': 'C:\\\\deeptrain\\\\examples\\\\dir\\\\models',\n",
      " 'best_subset_nums': '[]',\n",
      " 'best_subset_size': 'None',\n",
      " 'callbacks': '[]',\n",
      " 'check_model_health': 'True',\n",
      " 'checkpoints_overwrite_duplicates': 'True',\n",
      " 'class_weights': 'None',\n",
      " 'custom_metrics': '{}',\n",
      " 'datagen': 'deeptrain.data_generator.DataGenerator',\n",
      " 'dynamic_predict_threshold': '0.5',\n",
      " 'dynamic_predict_threshold_min_max': 'None',\n",
      " 'epochs': '1',\n",
      " 'final_fig_dir': 'None',\n",
      " 'history': \"{'loss': []}\",\n",
      " 'input_as_labels': 'True',\n",
      " 'iter_verbosity': '0',\n",
      " 'key_metric': 'loss',\n",
      " 'key_metric_fn': 'mean_squared_error',\n",
      " 'key_metric_history': '[]',\n",
      " 'loadpath': 'None',\n",
      " 'loadskip_list': \"['{auto}', 'model_name', 'model_base_name', 'model_num', \"\n",
      "                  \"'use_passed_dirs_over_loaded', 'logdir', \"\n",
      "                  \"'_init_callbacks_called']\",\n",
      " 'logdir': 'C:\\\\deeptrain\\\\examples\\\\dir\\\\logs\\\\M5__model-nadam__min999.000',\n",
      " 'logs_dir': 'C:\\\\deeptrain\\\\examples\\\\dir\\\\logs',\n",
      " 'logs_use_full_model_name': 'True',\n",
      " 'loss_weighted_slices_range': 'None',\n",
      " 'max_checkpoints': '5',\n",
      " 'max_is_best': 'False',\n",
      " 'max_one_best_save': 'True',\n",
      " 'metric_printskip_configs': \"{'train': [], 'val': []}\",\n",
      " 'metric_to_alias': \"{'loss': 'Loss', 'accuracy': 'Acc', 'f1_score': 'F1', \"\n",
      "                    \"'tnr': '0-Acc', 'tpr': '1-Acc', 'mean_absolute_error': \"\n",
      "                    \"'MAE', 'mean_squared_error': 'MSE'}\",\n",
      " 'model': 'tensorflow.python.keras.engine.functional.Functional',\n",
      " 'model_base_name': 'model',\n",
      " 'model_configs': \"{'batch_shape': (128, 28, 28, 1), 'loss': 'mse', 'metrics': \"\n",
      "                  \"None, 'optimizer': 'nadam', 'activation': ['relu', 'relu', \"\n",
      "                  \"'relu', 'relu', 'relu'], 'filters': [6, 12, 2, 6, 12], \"\n",
      "                  \"'kernel_size': [(3, 3), (3, 3), (3, 3), (3, 3), (3, 3)], \"\n",
      "                  \"'strides': [(2, 2), (2, 2), 1, 1, 1], 'up_sampling_2d': \"\n",
      "                  \"[None, None, None, (2, 2), (2, 2)], 'input_dropout': 0.5, \"\n",
      "                  \"'preout_dropout': 0.4}\",\n",
      " 'model_name': 'M5__model-nadam__min999.000',\n",
      " 'model_name_configs': \"{'optimizer': '', 'lr': '', 'best_key_metric': \"\n",
      "                       \"'__min'}\",\n",
      " 'model_num': '5',\n",
      " 'model_save_kw': \"{'include_optimizer': True, 'save_format': 'h5'}\",\n",
      " 'model_save_weights_kw': \"{'save_format': 'h5'}\",\n",
      " 'name_process_key_fn': 'NAME_PROCESS_KEY_FN',\n",
      " 'new_model_num': 'True',\n",
      " 'optimizer_load_configs': 'None',\n",
      " 'optimizer_save_configs': 'None',\n",
      " 'plot_configs': \"{'0': {'legend_kw': {'fontsize': 11}, 'metrics': {'train': \"\n",
      "                 \"['loss'], 'val': ['loss']}, 'x_ticks': {'train': \"\n",
      "                 \"['_train_x_ticks'], 'val': ['_val_train_x_ticks']}, \"\n",
      "                 \"'vhlines': {'v': '_hist_vlines', 'h': 1}, 'mark_best_cfg': \"\n",
      "                 \"{'val': 'loss', 'max_is_best': False}, 'ylims': (0, 2), \"\n",
      "                 \"'linewidth': [1.5, 1.5], 'linestyle': ['-', '-'], 'color': \"\n",
      "                 \"['#1f77b4', 'orange']}, 'fig_kw': {'figsize': (12, 7)}}\",\n",
      " 'plot_first_pane_max_vals': '2',\n",
      " 'plot_history_freq': \"{'epoch': 1}\",\n",
      " 'pred_weighted_slices_range': 'None',\n",
      " 'predict_threshold': '0.5',\n",
      " 'report_configs': 'dict',\n",
      " 'report_fontpath': 'C:\\\\deeptrain\\\\deeptrain\\\\util\\\\fonts\\\\consola.ttf',\n",
      " 'reset_statefuls': 'False',\n",
      " 'saveskip_list': \"['model', 'optimizer_state', 'callbacks', 'key_metric_fn', \"\n",
      "                  \"'custom_metrics', 'metric_to_alias', 'alias_to_metric', \"\n",
      "                  \"'name_process_key_fn', '_fit_fn', '_eval_fn', '_labels', \"\n",
      "                  \"'_preds', '_y_true', '_y_preds', '_labels_cache', \"\n",
      "                  \"'_preds_cache', '_sw_cache', '_imports', '_history_fig', \"\n",
      "                  \"'_val_max_set_name_chars', '_max_set_name_chars', \"\n",
      "                  \"'_inferred_batch_size', '_class_labels_cache', \"\n",
      "                  \"'_temp_history_empty', '_val_temp_history_empty', \"\n",
      "                  \"'_val_sw', '_set_num', '_val_set_num', 'labels']\",\n",
      " 'temp_checkpoint_freq': 'None',\n",
      " 'temp_history': \"{'loss': []}\",\n",
      " 'train_metrics': \"['loss']\",\n",
      " 'unique_checkpoint_freq': \"{'epoch': 1}\",\n",
      " 'val_class_weights': 'None',\n",
      " 'val_datagen': 'deeptrain.data_generator.DataGenerator',\n",
      " 'val_freq': \"{'epoch': 1}\",\n",
      " 'val_history': \"{'loss': []}\",\n",
      " 'val_metrics': \"['loss']\",\n",
      " 'val_temp_history': \"{'loss': []}\"}\n"
     ]
    }
   ],
   "source": [
    "import json\n",
    "with open(tg.get_last_log('init_state'), 'r') as f:\n",
    "    j = json.load(f)\n",
    "    pprint(j)"
   ]
  },
  {
   "cell_type": "markdown",
   "metadata": {},
   "source": [
    "### Save directories"
   ]
  },
  {
   "cell_type": "code",
   "execution_count": 5,
   "metadata": {},
   "outputs": [
    {
     "name": "stdout",
     "output_type": "stream",
     "text": [
      "Best model directory: C:\\deeptrain\\examples\\dir\\models\n",
      "Checkpoint directory: C:\\deeptrain\\examples\\dir\\logs\\M5__model-nadam__min999.000\n",
      "Model full name: M5__model-nadam__min.144\n"
     ]
    }
   ],
   "source": [
    "print(\"Best model directory:\", tg.best_models_dir)\n",
    "print(\"Checkpoint directory:\", tg.logdir)\n",
    "print(\"Model full name:\", tg.model_name)"
   ]
  },
  {
   "cell_type": "markdown",
   "metadata": {},
   "source": [
    "### Interrupts\n",
    "Interrupts can be inspected by checking pertinent attributes manually<br>\n",
    "`(_train_loop_done, _train_postiter_processed, _val_loop_done, _val_postiter_processed)`,<br>\n",
    "or calling `interrupt_status()` which checks these and prints an appropriate message."
   ]
  },
  {
   "cell_type": "code",
   "execution_count": 6,
   "metadata": {},
   "outputs": [
    {
     "name": "stdout",
     "output_type": "stream",
     "text": [
      "No interrupts detected.\n",
      "\n",
      "Flags checked:\n",
      "\t_train_loop_done          = False\n",
      "\t_train_postiter_processed = True\n",
      "\t_val_loop_done            = False\n",
      "\t_val_postiter_processed   = True\n"
     ]
    },
    {
     "data": {
      "text/plain": [
       "(False, False)"
      ]
     },
     "execution_count": 6,
     "metadata": {},
     "output_type": "execute_result"
    }
   ],
   "source": [
    "tg.interrupt_status()"
   ]
  },
  {
   "cell_type": "markdown",
   "metadata": {},
   "source": [
    "Interrupts can be manual (`KeyboardInterrupt`) or due to a `raise Exception`; either interrupts the flow of train/validation, so knowing at which point the fault occurred allows us to correct manually (e.g. execute portion of\n",
    "code after an exception)"
   ]
  },
  {
   "cell_type": "markdown",
   "metadata": {},
   "source": [
    "### Interrupt example"
   ]
  },
  {
   "cell_type": "code",
   "execution_count": 7,
   "metadata": {},
   "outputs": [],
   "source": [
    "tg._train_loop_done = True\n",
    "tg._val_loop_done = True\n",
    "tg._val_postiter_processed = True"
   ]
  },
  {
   "cell_type": "markdown",
   "metadata": {},
   "source": [
    "At this point `_on_val_end()` is called automatically, so if you're able to access such a state, it means the call didn't finish or was never initiated."
   ]
  },
  {
   "cell_type": "code",
   "execution_count": 8,
   "metadata": {},
   "outputs": [
    {
     "name": "stdout",
     "output_type": "stream",
     "text": [
      "Incomplete or not called `_on_val_end()` within `validate()`.\n",
      "Interrupted: train[no], validation[yes].\n",
      "\n",
      "Flags checked:\n",
      "\t_train_loop_done          = True\n",
      "\t_train_postiter_processed = True\n",
      "\t_val_loop_done            = True\n",
      "\t_val_postiter_processed   = True\n"
     ]
    },
    {
     "data": {
      "text/plain": [
       "(False, True)"
      ]
     },
     "execution_count": 8,
     "metadata": {},
     "output_type": "execute_result"
    }
   ],
   "source": [
    "tg.interrupt_status()"
   ]
  },
  {
   "cell_type": "markdown",
   "metadata": {},
   "source": [
    "### Example 2"
   ]
  },
  {
   "cell_type": "code",
   "execution_count": 9,
   "metadata": {},
   "outputs": [
    {
     "name": "stdout",
     "output_type": "stream",
     "text": [
      "Interrupted during validation loop within `validate()`; incomplete or not called `_val_postiter_processing()`.\n",
      "Interrupted: train[no], validation[yes].\n",
      "\n",
      "Flags checked:\n",
      "\t_train_loop_done          = True\n",
      "\t_train_postiter_processed = True\n",
      "\t_val_loop_done            = False\n",
      "\t_val_postiter_processed   = False\n"
     ]
    },
    {
     "data": {
      "text/plain": [
       "(False, True)"
      ]
     },
     "execution_count": 9,
     "metadata": {},
     "output_type": "execute_result"
    }
   ],
   "source": [
    "tg._val_loop_done = False\n",
    "tg._val_postiter_processed = False\n",
    "tg.interrupt_status()"
   ]
  },
  {
   "cell_type": "code",
   "execution_count": 10,
   "metadata": {},
   "outputs": [
    {
     "name": "stdout",
     "output_type": "stream",
     "text": [
      "Help on method train in module deeptrain.train_generator:\n",
      "\n",
      "train() method of deeptrain.train_generator.TrainGenerator instance\n",
      "    The train loop.\n",
      "    \n",
      "        - Fetches data from `get_data`\n",
      "        - Fits data via `fin_fn`\n",
      "        - Processes fit metrics in `_train_postiter_processing`\n",
      "        - Stores metrics in `history`\n",
      "        - Applies `'train:iter'`, `'train:batch'`, and `'train:epoch'`\n",
      "          callbacks\n",
      "        - Calls `validate` when appropriate\n",
      "    \n",
      "    **Interruption**:\n",
      "    \n",
      "        - *Safe*: during `get_data`, which can be called indefinitely\n",
      "          without changing any attributes.\n",
      "        - *Avoid*: during `_train_postiter_processing`, where `fit_fn` is\n",
      "          applied and weights are updated - but metrics aren't stored, and\n",
      "          `_train_postiter_processed=False`, restarting the loop without\n",
      "          recording progress.\n",
      "        - Best bet is during :meth:`validate`, as `get_data` may be too brief.\n",
      "\n"
     ]
    }
   ],
   "source": [
    "help(tg.train)"
   ]
  },
  {
   "cell_type": "code",
   "execution_count": 11,
   "metadata": {},
   "outputs": [
    {
     "name": "stdout",
     "output_type": "stream",
     "text": [
      "Help on method validate in module deeptrain.train_generator:\n",
      "\n",
      "validate(record_progress=True, clear_cache=True, restart=False, use_callbacks=True) method of deeptrain.train_generator.TrainGenerator instance\n",
      "    Validation loop.\n",
      "    \n",
      "        - Fetches data from `get_data`\n",
      "        - Applies function based on `_eval_fn_name`\n",
      "        - Processes and caches metrics/predictions in\n",
      "          `_val_postiter_processing`\n",
      "        - Applies `'val:iter'`, `'val:batch'`, and `'val:epoch'` callbacks\n",
      "        - Calls `_on_val_end` at end of validation to compute metrics\n",
      "          and store them in `val_history`\n",
      "        - Applies `'val_end'` and maybe `('val_end': 'train:epoch')` callbacks\n",
      "        - If `restart`, calls :meth:`reset_validation`.\n",
      "    \n",
      "    **Arguments**:\n",
      "        record_progress: bool\n",
      "            If False, won't update `val_history`, `_val_iters`,\n",
      "            `_batches_validated`.\n",
      "        clear_cache: bool\n",
      "            If False, won't call :meth:`clear_cache`; useful for keeping\n",
      "            preds & labels acquired during validation.\n",
      "        restart: bool\n",
      "            If True, will call :meth:`reset_valiation` before validation loop\n",
      "            to reset validation attributes; useful for starting afresh (e.g.\n",
      "            if interrupted).\n",
      "        use_callbacks: bool\n",
      "            If False, won't call :meth:`apply_callbacks`\n",
      "            or :meth:`plot_history`.\n",
      "    \n",
      "    **Interruption:**\n",
      "    \n",
      "        - *Safe*: during `get_data`, which can be called indefinitely\n",
      "          without changing any attributes.\n",
      "        - *Avoid*: during `_val_postiter_processing`. Model remains\n",
      "          unaffected*, but caches are updated; a restart may yield duplicate\n",
      "          appending, which will error or yield inaccuracies.\n",
      "          (* forward pass may consume random seed if random ops are used)\n",
      "        - *In practice*: prefer interrupting immediately after\n",
      "          `_print_iter_progress` executes.\n",
      "\n"
     ]
    }
   ],
   "source": [
    "help(tg.validate)"
   ]
  },
  {
   "cell_type": "markdown",
   "metadata": {},
   "source": [
    "Interrupts can also be inspected by checking `temp_history`, `val_temp_history`, and cache attributes (e.g. `_preds_cache`); <br> cache attributes clear by default when `validate()` finishes.<br> Check `help(train)` and `help(validate)` for further interrupt guidelines."
   ]
  },
  {
   "cell_type": "markdown",
   "metadata": {},
   "source": [
    "### DataGenerator attributes\n",
    "\n",
    "`set_nums_to_process` are the set nums remaining until end of epoch, which are then reset to `set_nums_original`. \"Set\" refers to data file to load."
   ]
  },
  {
   "cell_type": "code",
   "execution_count": 12,
   "metadata": {},
   "outputs": [
    {
     "name": "stdout",
     "output_type": "stream",
     "text": [
      "['42', '38', '34', '20', '25', '41', '14', '33', '30', '5', '19', '32', '11', '28', '46', '40', '27', '24', '2', '21', '9', '17', '1', '29', '43', '26', '23', '36', '7', '6', '48', '4', '39', '13', '12', '37', '45', '18', '44', '35', '10', '31', '22', '47', '8', '16', '15', '3']\n",
      "['1', '2', '3', '4', '5', '6', '7', '8', '9', '10', '11', '12', '13', '14', '15', '16', '17', '18', '19', '20', '21', '22', '23', '24', '25', '26', '27', '28', '29', '30', '31', '32', '33', '34', '35', '36']\n"
     ]
    }
   ],
   "source": [
    "# We can check which set numbers remain to be processed in epoch or validation:\n",
    "print(dg.set_nums_to_process)\n",
    "print(vdg.set_nums_to_process)\n",
    "# We can arbitrarily append to or pop from the list to skip or repeat a batch"
   ]
  },
  {
   "cell_type": "markdown",
   "metadata": {},
   "source": [
    "### Info function\n",
    "Lastly, we can access most of the above via `info()`:"
   ]
  },
  {
   "cell_type": "code",
   "execution_count": 13,
   "metadata": {},
   "outputs": [
    {
     "name": "stdout",
     "output_type": "stream",
     "text": [
      "Epochs: 1/1\n",
      "Train batches fit: 0/48 (in current epoch)\n",
      "Val   batches fit: 0/36 (in current validation)\n",
      "--------------------------------------------------------------------------------\n",
      "Best model directory: C:\\deeptrain\\examples\\dir\\models\n",
      "Checkpoint directory: C:\\deeptrain\\examples\\dir\\logs\\M5__model-nadam__min999.000\n",
      "Load path: None\n",
      "Model full name: M5__model-nadam__min.144\n",
      "--------------------------------------------------------------------------------\n",
      "Interrupted during validation loop within `validate()`; incomplete or not called `_val_postiter_processing()`.\n",
      "Interrupted: train[no], validation[yes].\n",
      "\n",
      "Flags checked:\n",
      "\t_train_loop_done          = True\n",
      "\t_train_postiter_processed = True\n",
      "\t_val_loop_done            = False\n",
      "\t_val_postiter_processed   = False\n"
     ]
    }
   ],
   "source": [
    "tg.info()"
   ]
  }
 ],
 "metadata": {
  "kernelspec": {
   "display_name": "Python 3",
   "language": "python",
   "name": "python3"
  },
  "language_info": {
   "codemirror_mode": {
    "name": "ipython",
    "version": 3
   },
   "file_extension": ".py",
   "mimetype": "text/x-python",
   "name": "python",
   "nbconvert_exporter": "python",
   "pygments_lexer": "ipython3",
   "version": "3.7.7"
  }
 },
 "nbformat": 4,
 "nbformat_minor": 4
}
