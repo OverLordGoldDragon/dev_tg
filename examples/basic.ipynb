{
 "cells": [
  {
   "cell_type": "markdown",
   "metadata": {},
   "source": [
    "## Into DeepTrain\n",
    "DeepTrain requires only (1) a compiled model and (2) data directory to run.<br>\n",
    "This example covers these and a bit more to keep truer to standard use.    "
   ]
  },
  {
   "cell_type": "code",
   "execution_count": 1,
   "metadata": {},
   "outputs": [
    {
     "name": "stderr",
     "output_type": "stream",
     "text": [
      "Using TensorFlow backend.\n"
     ]
    }
   ],
   "source": [
    "import os\n",
    "import sys\n",
    "from pathlib import Path\n",
    "sys.path.insert(0, str(Path(Path.cwd()).parent))\n",
    "sys.path.insert(0, os.path.join(Path(Path.cwd()).parents[1], \"see-rnn\"))\n",
    "\n",
    "from tensorflow.keras.layers import Input, Dense, Conv2D, MaxPooling2D\n",
    "from tensorflow.keras.layers import Flatten, Activation\n",
    "from tensorflow.keras.models import Model\n",
    "from deeptrain import TrainGenerator, DataGenerator"
   ]
  },
  {
   "cell_type": "markdown",
   "metadata": {},
   "source": [
    "### Model maker\n",
    "Begin by defining a model maker function. Input should specify hyperparameters, optimizer, learning rate, etc;<br> this is the \"blueprint\" which is later saved."
   ]
  },
  {
   "cell_type": "code",
   "execution_count": 2,
   "metadata": {},
   "outputs": [],
   "source": [
    "def make_model(batch_shape, optimizer, loss, metrics, num_classes,\n",
    "               filters, kernel_size):\n",
    "    ipt = Input(batch_shape=batch_shape)\n",
    "\n",
    "    x = Conv2D(filters, kernel_size, activation='relu', padding='same')(ipt)\n",
    "    x = MaxPooling2D(pool_size=(2, 2))(x)\n",
    "    x = Flatten()(x)\n",
    "    x = Dense(num_classes)(x)\n",
    "\n",
    "    out = Activation('softmax')(x)\n",
    "\n",
    "    model = Model(ipt, out)\n",
    "    model.compile(optimizer, loss, metrics=metrics)\n",
    "    return model"
   ]
  },
  {
   "cell_type": "markdown",
   "metadata": {},
   "source": [
    "### Model configs\n",
    "Define configs dictionary to feed as `**kwargs` to `make_model`; we'll also pass it to TrainGenerator,<br>\n",
    "which will save it and show in a \"report\" for easy reference"
   ]
  },
  {
   "cell_type": "code",
   "execution_count": 3,
   "metadata": {},
   "outputs": [],
   "source": [
    "batch_size = 128\n",
    "width, height, channels = 28, 28, 1  # MNIST dims (28 x 28 pixels, greyscale)\n",
    "\n",
    "MODEL_CFG = dict(\n",
    "    batch_shape=(batch_size, width, height, channels),\n",
    "    loss='categorical_crossentropy',\n",
    "    metrics=['accuracy'],\n",
    "    optimizer='adam',\n",
    "    num_classes=10,\n",
    "    filters=16,\n",
    "    kernel_size=(3, 3),\n",
    ")"
   ]
  },
  {
   "cell_type": "markdown",
   "metadata": {},
   "source": [
    "### DataGenerator (train) configs\n",
    "- `data_path`:    directory where image data is located\n",
    "- `labels_path`: where labels file is located\n",
    "- `batch_size`:  number of samples to feed at once to model\n",
    "- `shuffle`:     whether to shuffle data at end of each epoch\n",
    "- `superbatch_set_nums`: which files to load into a `superbatch`, which holds batches persisently in memory <br> \n",
    "  (as opposed to `batch`, which is overwritten after use). Since MNIST is small, we can load it all into RAM."
   ]
  },
  {
   "cell_type": "code",
   "execution_count": 4,
   "metadata": {},
   "outputs": [],
   "source": [
    "datadir = os.path.join(\"dir\", \"data\", \"image\")\n",
    "DATAGEN_CFG = dict(\n",
    "    data_path=os.path.join(datadir, 'train'),\n",
    "    labels_path=os.path.join(datadir, 'train', 'labels.h5'),\n",
    "    batch_size=batch_size,\n",
    "    shuffle=True,\n",
    "    superbatch_set_nums='all',\n",
    ")"
   ]
  },
  {
   "cell_type": "markdown",
   "metadata": {},
   "source": [
    "### DataGenerator (validation) configs"
   ]
  },
  {
   "cell_type": "code",
   "execution_count": 5,
   "metadata": {},
   "outputs": [],
   "source": [
    "VAL_DATAGEN_CFG = dict(\n",
    "    data_path=os.path.join(datadir, 'val'),\n",
    "    labels_path=os.path.join(datadir, 'val', 'labels.h5'),\n",
    "    batch_size=batch_size,\n",
    "    shuffle=False,\n",
    "    superbatch_set_nums='all',\n",
    ")"
   ]
  },
  {
   "cell_type": "markdown",
   "metadata": {},
   "source": [
    "### TrainGenerator configs\n",
    "-   `epochs`:   number of epochs to train for\n",
    "-   `logs_dir`: where to save TrainGenerator state, model, report, and history\n",
    "-   `best_models_dir`: where to save model when it achieves new best validation performance\n",
    "-   `model_configs`: model configurations dict to save & write to report"
   ]
  },
  {
   "cell_type": "code",
   "execution_count": 6,
   "metadata": {},
   "outputs": [],
   "source": [
    "TRAINGEN_CFG = dict(\n",
    "    epochs=3,\n",
    "    logs_dir=os.path.join('dir', 'outputs', 'logs'),\n",
    "    best_models_dir=os.path.join('dir', 'outputs', 'models'),\n",
    "    model_configs=MODEL_CFG,\n",
    ")"
   ]
  },
  {
   "cell_type": "markdown",
   "metadata": {},
   "source": [
    "### Create training objects"
   ]
  },
  {
   "cell_type": "code",
   "execution_count": 7,
   "metadata": {},
   "outputs": [
    {
     "name": "stdout",
     "output_type": "stream",
     "text": [
      "Discovered 50 files with matching format\n",
      "Discovered dataset with matching format\n",
      "50 set nums inferred; if more are expected, ensure file names contain a common substring w/ a number (e.g. 'train1.npy', 'train2.npy', etc)\n",
      "DataGenerator initiated\n",
      "Discovered 36 files with matching format\n",
      "Discovered dataset with matching format\n",
      "36 set nums inferred; if more are expected, ensure file names contain a common substring w/ a number (e.g. 'train1.npy', 'train2.npy', etc)\n",
      "DataGenerator initiated\n",
      "Preloading superbatch ... Discovered 50 files with matching format\n",
      ".................................................. finished, w/ 6400 total samples\n",
      "Train initial data prepared\n",
      "Preloading superbatch ... Discovered 36 files with matching format\n",
      ".................................... finished, w/ 4608 total samples\n",
      "Val initial data prepared\n",
      "Logging ON; directory (new): dir\\outputs\\logs\\M20__model-adam__min999.000\n"
     ]
    }
   ],
   "source": [
    "model       = make_model(**MODEL_CFG)\n",
    "datagen     = DataGenerator(**DATAGEN_CFG)\n",
    "val_datagen = DataGenerator(**VAL_DATAGEN_CFG)\n",
    "traingen    = TrainGenerator(model, datagen, val_datagen, **TRAINGEN_CFG)"
   ]
  },
  {
   "cell_type": "markdown",
   "metadata": {},
   "source": [
    "### Train"
   ]
  },
  {
   "cell_type": "code",
   "execution_count": 8,
   "metadata": {},
   "outputs": [
    {
     "name": "stdout",
     "output_type": "stream",
     "text": [
      "\n",
      "Fitting set 1...   (Loss, Acc) = (2.370597, 0.132812) \n",
      "Fitting set 2...   (Loss, Acc) = (2.343825, 0.144531) \n",
      "Fitting set 3...   (Loss, Acc) = (2.311301, 0.140625) \n",
      "Fitting set 4...   (Loss, Acc) = (2.287057, 0.142578) \n",
      "Fitting set 5...   (Loss, Acc) = (2.252726, 0.171875) \n",
      "Fitting set 6...   (Loss, Acc) = (2.226725, 0.197917) \n",
      "Fitting set 7...   (Loss, Acc) = (2.205358, 0.214286) \n",
      "Fitting set 8...   (Loss, Acc) = (2.180504, 0.243164) \n",
      "Fitting set 9...   (Loss, Acc) = (2.157950, 0.263889) \n",
      "Fitting set 10...  (Loss, Acc) = (2.135839, 0.290625) \n",
      "Fitting set 11...  (Loss, Acc) = (2.105779, 0.325284) \n",
      "Fitting set 12...  (Loss, Acc) = (2.082644, 0.347005) \n",
      "Fitting set 13...  (Loss, Acc) = (2.061819, 0.362380) \n",
      "Fitting set 14...  (Loss, Acc) = (2.036526, 0.388393) \n",
      "Fitting set 15...  (Loss, Acc) = (2.011799, 0.412500) \n",
      "Fitting set 16...  (Loss, Acc) = (1.988976, 0.430176) \n",
      "Fitting set 17...  (Loss, Acc) = (1.964768, 0.448989) \n",
      "Fitting set 18...  (Loss, Acc) = (1.943171, 0.461806) \n",
      "Fitting set 19...  (Loss, Acc) = (1.921591, 0.472862) \n",
      "Fitting set 20...  (Loss, Acc) = (1.896308, 0.487500) \n",
      "Fitting set 21...  (Loss, Acc) = (1.873303, 0.501488) \n",
      "Fitting set 22...  (Loss, Acc) = (1.845701, 0.514915) \n",
      "Fitting set 23...  (Loss, Acc) = (1.821745, 0.527174) \n",
      "Fitting set 24...  (Loss, Acc) = (1.796688, 0.539388) \n",
      "Fitting set 25...  (Loss, Acc) = (1.777854, 0.548125) \n",
      "Fitting set 26...  (Loss, Acc) = (1.754264, 0.557392) \n",
      "Fitting set 27...  (Loss, Acc) = (1.728791, 0.567998) \n",
      "Fitting set 28...  (Loss, Acc) = (1.710545, 0.574219) \n",
      "Fitting set 29...  (Loss, Acc) = (1.686355, 0.582974) \n",
      "Fitting set 30...  (Loss, Acc) = (1.667314, 0.588542) \n",
      "Fitting set 31...  (Loss, Acc) = (1.645547, 0.595514) \n",
      "Fitting set 32...  (Loss, Acc) = (1.624660, 0.600586) \n",
      "Fitting set 33...  (Loss, Acc) = (1.603605, 0.607244) \n",
      "Fitting set 34...  (Loss, Acc) = (1.584914, 0.611673) \n",
      "Fitting set 35...  (Loss, Acc) = (1.566249, 0.616071) \n",
      "Fitting set 36...  (Loss, Acc) = (1.545290, 0.621745) \n",
      "Fitting set 37...  (Loss, Acc) = (1.524702, 0.627745) \n",
      "Fitting set 38...  (Loss, Acc) = (1.506484, 0.631579) \n",
      "Fitting set 39...  (Loss, Acc) = (1.487553, 0.637420) \n",
      "Fitting set 40...  (Loss, Acc) = (1.470464, 0.640234) \n",
      "Fitting set 41...  (Loss, Acc) = (1.452627, 0.644055) \n",
      "Fitting set 42...  (Loss, Acc) = (1.436462, 0.647879) \n",
      "Fitting set 43...  (Loss, Acc) = (1.419835, 0.652253) \n",
      "Fitting set 44...  (Loss, Acc) = (1.404481, 0.655540) \n",
      "Fitting set 45...  (Loss, Acc) = (1.390046, 0.658507) \n",
      "Fitting set 46...  (Loss, Acc) = (1.375247, 0.661685) \n",
      "Fitting set 47...  (Loss, Acc) = (1.358943, 0.665559) \n",
      "Fitting set 48...  (Loss, Acc) = (1.347264, 0.667643) \n",
      "Fitting set 49...  (Loss, Acc) = (1.332072, 0.671237) \n",
      "Fitting set 50...  (Loss, Acc) = (1.317062, 0.675312) \n",
      "Data set_nums shuffled\n",
      "\n",
      "\n",
      "_____________________\n",
      "\u001b[4m EPOCH 1 -- COMPLETE \u001b[0m\n",
      "\n",
      "\n",
      "\n",
      "Validating...\n",
      "Validating set 1...  (Loss, Acc) = (0.602070, 0.875000) \n",
      "Validating set 2...  (Loss, Acc) = (0.587927, 0.890625) \n",
      "Validating set 3...  (Loss, Acc) = (0.611327, 0.882812) \n",
      "Validating set 4...  (Loss, Acc) = (0.605476, 0.876953) \n",
      "Validating set 5...  (Loss, Acc) = (0.600041, 0.876563) \n",
      "Validating set 6...  (Loss, Acc) = (0.599611, 0.875000) \n",
      "Validating set 7...  (Loss, Acc) = (0.598237, 0.873884) \n",
      "Validating set 8...  (Loss, Acc) = (0.601054, 0.875977) \n",
      "Validating set 9...  (Loss, Acc) = (0.601887, 0.873264) \n",
      "Validating set 10... (Loss, Acc) = (0.600158, 0.874219) \n",
      "Validating set 11... (Loss, Acc) = (0.591472, 0.872869) \n",
      "Validating set 12... (Loss, Acc) = (0.587976, 0.872396) \n",
      "Validating set 13... (Loss, Acc) = (0.576929, 0.875000) \n",
      "Validating set 14... (Loss, Acc) = (0.574426, 0.874442) \n",
      "Validating set 15... (Loss, Acc) = (0.581833, 0.871875) \n",
      "Validating set 16... (Loss, Acc) = (0.584283, 0.871582) \n",
      "Validating set 17... (Loss, Acc) = (0.580376, 0.874081) \n",
      "Validating set 18... (Loss, Acc) = (0.580589, 0.873264) \n",
      "Validating set 19... (Loss, Acc) = (0.578681, 0.872944) \n",
      "Validating set 20... (Loss, Acc) = (0.578637, 0.870703) \n",
      "Validating set 21... (Loss, Acc) = (0.581890, 0.868304) \n",
      "Validating set 22... (Loss, Acc) = (0.581525, 0.867543) \n",
      "Validating set 23... (Loss, Acc) = (0.584229, 0.865829) \n",
      "Validating set 24... (Loss, Acc) = (0.583416, 0.862956) \n",
      "Validating set 25... (Loss, Acc) = (0.583357, 0.862187) \n",
      "Validating set 26... (Loss, Acc) = (0.583910, 0.861478) \n",
      "Validating set 27... (Loss, Acc) = (0.586858, 0.860243) \n",
      "Validating set 28... (Loss, Acc) = (0.585698, 0.860491) \n",
      "Validating set 29... (Loss, Acc) = (0.586826, 0.859914) \n",
      "Validating set 30... (Loss, Acc) = (0.587517, 0.859375) \n",
      "Validating set 31... (Loss, Acc) = (0.589176, 0.859627) \n",
      "Validating set 32... (Loss, Acc) = (0.588899, 0.858887) \n",
      "Validating set 33... (Loss, Acc) = (0.588297, 0.858665) \n",
      "Validating set 34... (Loss, Acc) = (0.587405, 0.859145) \n",
      "Validating set 35... (Loss, Acc) = (0.593706, 0.857143) \n",
      "Validating set 36... (Loss, Acc) = (0.594175, 0.856988) \n",
      "TrainGenerator state saved\n",
      "Model report generated and saved\n",
      "Best model saved to dir\\outputs\\models\\M20__model-adam__min.594\n",
      "TrainGenerator state saved\n",
      "Model report generated and saved\n"
     ]
    },
    {
     "data": {
      "image/png": "[encoded data removed]",
      "text/plain": [
       "<Figure size 1008x396 with 1 Axes>"
      ]
     },
     "metadata": {
      "needs_background": "light"
     },
     "output_type": "display_data"
    },
    {
     "name": "stdout",
     "output_type": "stream",
     "text": [
      "\n",
      "Fitting set 45...  (Loss, Acc) = (0.633496, 0.843750) \n",
      "Fitting set 31...  (Loss, Acc) = (0.608743, 0.843750) \n",
      "Fitting set 49...  (Loss, Acc) = (0.589947, 0.854167) \n",
      "Fitting set 10...  (Loss, Acc) = (0.586200, 0.849609) \n",
      "Fitting set 27...  (Loss, Acc) = (0.573641, 0.853125) \n",
      "Fitting set 39...  (Loss, Acc) = (0.565826, 0.856771) \n",
      "Fitting set 4...   (Loss, Acc) = (0.569122, 0.856027) \n",
      "Fitting set 19...  (Loss, Acc) = (0.574812, 0.855469) \n",
      "Fitting set 2...   (Loss, Acc) = (0.562962, 0.857639) \n",
      "Fitting set 20...  (Loss, Acc) = (0.557432, 0.860156) \n",
      "Fitting set 37...  (Loss, Acc) = (0.546000, 0.862216) \n",
      "Fitting set 28...  (Loss, Acc) = (0.553593, 0.860026) \n",
      "Fitting set 36...  (Loss, Acc) = (0.548383, 0.860577) \n",
      "Fitting set 47...  (Loss, Acc) = (0.542207, 0.861049) \n",
      "Fitting set 33...  (Loss, Acc) = (0.542460, 0.859896) \n",
      "Fitting set 29...  (Loss, Acc) = (0.535699, 0.861816) \n",
      "Fitting set 8...   (Loss, Acc) = (0.528845, 0.863051) \n",
      "Fitting set 5...   (Loss, Acc) = (0.523436, 0.863281) \n",
      "Fitting set 38...  (Loss, Acc) = (0.518542, 0.864309) \n",
      "Fitting set 12...  (Loss, Acc) = (0.511530, 0.865625) \n",
      "Fitting set 13...  (Loss, Acc) = (0.510078, 0.866443) \n",
      "Fitting set 7...   (Loss, Acc) = (0.509784, 0.865767) \n",
      "Fitting set 42...  (Loss, Acc) = (0.510912, 0.866508) \n",
      "Fitting set 41...  (Loss, Acc) = (0.507470, 0.866862) \n",
      "Fitting set 30...  (Loss, Acc) = (0.504907, 0.867500) \n",
      "Fitting set 35...  (Loss, Acc) = (0.504526, 0.866587) \n",
      "Fitting set 26...  (Loss, Acc) = (0.497991, 0.868634) \n",
      "Fitting set 40...  (Loss, Acc) = (0.496791, 0.868583) \n",
      "Fitting set 18...  (Loss, Acc) = (0.495187, 0.869073) \n",
      "Fitting set 6...   (Loss, Acc) = (0.492996, 0.869010) \n",
      "Fitting set 9...   (Loss, Acc) = (0.492260, 0.868700) \n",
      "Fitting set 46...  (Loss, Acc) = (0.490324, 0.868896) \n",
      "Fitting set 32...  (Loss, Acc) = (0.490466, 0.869555) \n",
      "Fitting set 11...  (Loss, Acc) = (0.484783, 0.870864) \n",
      "Fitting set 34...  (Loss, Acc) = (0.485710, 0.870759) \n",
      "Fitting set 43...  (Loss, Acc) = (0.483823, 0.871094) \n",
      "Fitting set 1...   (Loss, Acc) = (0.478533, 0.873100) \n",
      "Fitting set 21...  (Loss, Acc) = (0.476182, 0.873150) \n",
      "Fitting set 23...  (Loss, Acc) = (0.475065, 0.873197) \n",
      "Fitting set 50...  (Loss, Acc) = (0.472494, 0.873437) \n",
      "Fitting set 25...  (Loss, Acc) = (0.472696, 0.872523) \n",
      "Fitting set 16...  (Loss, Acc) = (0.470873, 0.872768) \n",
      "Fitting set 15...  (Loss, Acc) = (0.468134, 0.873728) \n",
      "Fitting set 14...  (Loss, Acc) = (0.468120, 0.873580) \n",
      "Fitting set 24...  (Loss, Acc) = (0.466518, 0.873785) \n",
      "Fitting set 48...  (Loss, Acc) = (0.468151, 0.873132) \n",
      "Fitting set 44...  (Loss, Acc) = (0.466902, 0.873338) \n",
      "Fitting set 3...   (Loss, Acc) = (0.465193, 0.873698) \n",
      "Fitting set 17...  (Loss, Acc) = (0.465047, 0.873884) \n",
      "Fitting set 22...  (Loss, Acc) = (0.462117, 0.875469) \n",
      "Data set_nums shuffled\n",
      "\n",
      "\n",
      "_____________________\n",
      "\u001b[4m EPOCH 2 -- COMPLETE \u001b[0m\n",
      "\n",
      "\n",
      "\n",
      "Validating...\n",
      "Validating set 1...  (Loss, Acc) = (0.338925, 0.914062) \n",
      "Validating set 2...  (Loss, Acc) = (0.328532, 0.929688) \n",
      "Validating set 3...  (Loss, Acc) = (0.369135, 0.916667) \n",
      "Validating set 4...  (Loss, Acc) = (0.378144, 0.910156) \n",
      "Validating set 5...  (Loss, Acc) = (0.384495, 0.901563) \n",
      "Validating set 6...  (Loss, Acc) = (0.383366, 0.899740) \n",
      "Validating set 7...  (Loss, Acc) = (0.374737, 0.899554) \n",
      "Validating set 8...  (Loss, Acc) = (0.377746, 0.897461) \n",
      "Validating set 9...  (Loss, Acc) = (0.374591, 0.900174) \n",
      "Validating set 10... (Loss, Acc) = (0.381770, 0.899219) \n",
      "Validating set 11... (Loss, Acc) = (0.369315, 0.900568) \n",
      "Validating set 12... (Loss, Acc) = (0.366871, 0.899740) \n",
      "Validating set 13... (Loss, Acc) = (0.357362, 0.902043) \n",
      "Validating set 14... (Loss, Acc) = (0.356551, 0.901786) \n",
      "Validating set 15... (Loss, Acc) = (0.366476, 0.899479) \n",
      "Validating set 16... (Loss, Acc) = (0.371769, 0.897461) \n",
      "Validating set 17... (Loss, Acc) = (0.366309, 0.899816) \n",
      "Validating set 18... (Loss, Acc) = (0.366561, 0.898872) \n",
      "Validating set 19... (Loss, Acc) = (0.361470, 0.900082) \n",
      "Validating set 20... (Loss, Acc) = (0.358251, 0.901953) \n",
      "Validating set 21... (Loss, Acc) = (0.366733, 0.899182) \n",
      "Validating set 22... (Loss, Acc) = (0.366302, 0.899858) \n",
      "Validating set 23... (Loss, Acc) = (0.369071, 0.898777) \n",
      "Validating set 24... (Loss, Acc) = (0.366257, 0.898112) \n",
      "Validating set 25... (Loss, Acc) = (0.367881, 0.897813) \n",
      "Validating set 26... (Loss, Acc) = (0.369067, 0.897236) \n",
      "Validating set 27... (Loss, Acc) = (0.372268, 0.896701) \n",
      "Validating set 28... (Loss, Acc) = (0.371220, 0.897042) \n",
      "Validating set 29... (Loss, Acc) = (0.371547, 0.897899) \n",
      "Validating set 30... (Loss, Acc) = (0.371813, 0.897396) \n",
      "Validating set 31... (Loss, Acc) = (0.373548, 0.897429) \n",
      "Validating set 32... (Loss, Acc) = (0.372472, 0.897705) \n",
      "Validating set 33... (Loss, Acc) = (0.373326, 0.897254) \n",
      "Validating set 34... (Loss, Acc) = (0.371476, 0.898208) \n",
      "Validating set 35... (Loss, Acc) = (0.378065, 0.896205) \n",
      "Validating set 36... (Loss, Acc) = (0.377588, 0.896050) \n",
      "TrainGenerator state saved\n",
      "Model report generated and saved\n",
      "Best model saved to dir\\outputs\\models\\M20__model-adam__min.378\n",
      "TrainGenerator state saved\n",
      "Model report generated and saved\n"
     ]
    },
    {
     "data": {
      "image/png": "[encoded data removed]",
      "text/plain": [
       "<Figure size 1008x396 with 1 Axes>"
      ]
     },
     "metadata": {
      "needs_background": "light"
     },
     "output_type": "display_data"
    },
    {
     "name": "stdout",
     "output_type": "stream",
     "text": [
      "\n",
      "Fitting set 48...  (Loss, Acc) = (0.425716, 0.882812) \n",
      "Fitting set 42...  (Loss, Acc) = (0.426509, 0.882812) \n",
      "Fitting set 27...  (Loss, Acc) = (0.407297, 0.893229) \n",
      "Fitting set 39...  (Loss, Acc) = (0.384832, 0.902344) \n",
      "Fitting set 12...  (Loss, Acc) = (0.361690, 0.904687) \n",
      "Fitting set 10...  (Loss, Acc) = (0.359165, 0.901042) \n",
      "Fitting set 23...  (Loss, Acc) = (0.363716, 0.899554) \n",
      "Fitting set 38...  (Loss, Acc) = (0.354195, 0.903320) \n",
      "Fitting set 29...  (Loss, Acc) = (0.351775, 0.906250) \n",
      "Fitting set 41...  (Loss, Acc) = (0.348022, 0.907813) \n",
      "Fitting set 19...  (Loss, Acc) = (0.356801, 0.906960) \n",
      "Fitting set 11...  (Loss, Acc) = (0.349731, 0.908203) \n",
      "Fitting set 9...   (Loss, Acc) = (0.350933, 0.905048) \n",
      "Fitting set 36...  (Loss, Acc) = (0.346999, 0.906250) \n",
      "Fitting set 37...  (Loss, Acc) = (0.341569, 0.907813) \n",
      "Fitting set 6...   (Loss, Acc) = (0.341348, 0.905762) \n",
      "Fitting set 28...  (Loss, Acc) = (0.349923, 0.903033) \n",
      "Fitting set 33...  (Loss, Acc) = (0.353286, 0.901042) \n",
      "Fitting set 8...   (Loss, Acc) = (0.350672, 0.901727) \n",
      "Fitting set 15...  (Loss, Acc) = (0.346699, 0.902344) \n",
      "Fitting set 50...  (Loss, Acc) = (0.344309, 0.902902) \n",
      "Fitting set 13...  (Loss, Acc) = (0.344547, 0.902699) \n",
      "Fitting set 26...  (Loss, Acc) = (0.339321, 0.904552) \n",
      "Fitting set 32...  (Loss, Acc) = (0.342182, 0.903971) \n",
      "Fitting set 43...  (Loss, Acc) = (0.343239, 0.904375) \n",
      "Fitting set 7...   (Loss, Acc) = (0.343358, 0.904147) \n",
      "Fitting set 25...  (Loss, Acc) = (0.345169, 0.903067) \n",
      "Fitting set 30...  (Loss, Acc) = (0.344495, 0.903739) \n",
      "Fitting set 40...  (Loss, Acc) = (0.345273, 0.903825) \n",
      "Fitting set 22...  (Loss, Acc) = (0.342835, 0.905208) \n",
      "Fitting set 5...   (Loss, Acc) = (0.340466, 0.906250) \n",
      "Fitting set 47...  (Loss, Acc) = (0.340339, 0.906738) \n",
      "Fitting set 14...  (Loss, Acc) = (0.342311, 0.905777) \n",
      "Fitting set 46...  (Loss, Acc) = (0.342131, 0.906020) \n",
      "Fitting set 34...  (Loss, Acc) = (0.344400, 0.905580) \n",
      "Fitting set 31...  (Loss, Acc) = (0.345415, 0.905382) \n",
      "Fitting set 20...  (Loss, Acc) = (0.344719, 0.905617) \n",
      "Fitting set 16...  (Loss, Acc) = (0.344321, 0.905633) \n",
      "Fitting set 17...  (Loss, Acc) = (0.345265, 0.905649) \n",
      "Fitting set 49...  (Loss, Acc) = (0.344611, 0.905273) \n",
      "Fitting set 2...   (Loss, Acc) = (0.342816, 0.905297) \n",
      "Fitting set 44...  (Loss, Acc) = (0.342685, 0.905506) \n",
      "Fitting set 24...  (Loss, Acc) = (0.342264, 0.905523) \n",
      "Fitting set 4...   (Loss, Acc) = (0.342113, 0.905362) \n",
      "Fitting set 21...  (Loss, Acc) = (0.341684, 0.905035) \n",
      "Fitting set 35...  (Loss, Acc) = (0.342713, 0.904721) \n",
      "Fitting set 3...   (Loss, Acc) = (0.341649, 0.904920) \n",
      "Fitting set 1...   (Loss, Acc) = (0.338784, 0.905599) \n",
      "Fitting set 45...  (Loss, Acc) = (0.339347, 0.905293) \n",
      "Fitting set 18...  (Loss, Acc) = (0.339046, 0.905937) \n",
      "Data set_nums shuffled\n",
      "\n",
      "\n",
      "_____________________\n",
      "\u001b[4m EPOCH 3 -- COMPLETE \u001b[0m\n",
      "\n",
      "\n",
      "\n",
      "Validating...\n",
      "Validating set 1...  (Loss, Acc) = (0.260850, 0.945312) \n",
      "Validating set 2...  (Loss, Acc) = (0.252148, 0.937500) \n",
      "Validating set 3...  (Loss, Acc) = (0.301160, 0.932292) \n",
      "Validating set 4...  (Loss, Acc) = (0.317747, 0.923828) \n",
      "Validating set 5...  (Loss, Acc) = (0.332321, 0.918750) \n",
      "Validating set 6...  (Loss, Acc) = (0.328055, 0.915365) \n",
      "Validating set 7...  (Loss, Acc) = (0.316645, 0.916295) \n",
      "Validating set 8...  (Loss, Acc) = (0.320437, 0.913086) \n",
      "Validating set 9...  (Loss, Acc) = (0.316571, 0.914931) \n",
      "Validating set 10... (Loss, Acc) = (0.324856, 0.913281) \n",
      "Validating set 11... (Loss, Acc) = (0.312271, 0.915483) \n",
      "Validating set 12... (Loss, Acc) = (0.310722, 0.914714) \n",
      "Validating set 13... (Loss, Acc) = (0.300861, 0.917067) \n",
      "Validating set 14... (Loss, Acc) = (0.299594, 0.917969) \n",
      "Validating set 15... (Loss, Acc) = (0.310795, 0.916146) \n",
      "Validating set 16... (Loss, Acc) = (0.316500, 0.914062) \n",
      "Validating set 17... (Loss, Acc) = (0.310999, 0.915901) \n",
      "Validating set 18... (Loss, Acc) = (0.311263, 0.915365) \n",
      "Validating set 19... (Loss, Acc) = (0.305616, 0.916941) \n",
      "Validating set 20... (Loss, Acc) = (0.302594, 0.918359) \n",
      "Validating set 21... (Loss, Acc) = (0.311735, 0.915179) \n",
      "Validating set 22... (Loss, Acc) = (0.309977, 0.915838) \n",
      "Validating set 23... (Loss, Acc) = (0.311483, 0.915421) \n",
      "Validating set 24... (Loss, Acc) = (0.309652, 0.915039) \n",
      "Validating set 25... (Loss, Acc) = (0.311093, 0.913438) \n",
      "Validating set 26... (Loss, Acc) = (0.312015, 0.912560) \n",
      "Validating set 27... (Loss, Acc) = (0.315847, 0.912037) \n",
      "Validating set 28... (Loss, Acc) = (0.315616, 0.911551) \n",
      "Validating set 29... (Loss, Acc) = (0.316191, 0.911907) \n",
      "Validating set 30... (Loss, Acc) = (0.316616, 0.911719) \n",
      "Validating set 31... (Loss, Acc) = (0.318261, 0.911542) \n",
      "Validating set 32... (Loss, Acc) = (0.316744, 0.911865) \n",
      "Validating set 33... (Loss, Acc) = (0.317345, 0.911458) \n",
      "Validating set 34... (Loss, Acc) = (0.315194, 0.911994) \n",
      "Validating set 35... (Loss, Acc) = (0.321967, 0.910714) \n",
      "Validating set 36... (Loss, Acc) = (0.321520, 0.911024) \n",
      "TrainGenerator state saved\n",
      "Model report generated and saved\n",
      "Best model saved to dir\\outputs\\models\\M20__model-adam__min.322\n",
      "TrainGenerator state saved\n",
      "Model report generated and saved\n"
     ]
    },
    {
     "data": {
      "image/png": "[encoded data removed]",
      "text/plain": [
       "<Figure size 1008x396 with 1 Axes>"
      ]
     },
     "metadata": {
      "needs_background": "light"
     },
     "output_type": "display_data"
    },
    {
     "name": "stdout",
     "output_type": "stream",
     "text": [
      "Training has concluded.\n"
     ]
    }
   ],
   "source": [
    "traingen.train()"
   ]
  },
  {
   "cell_type": "markdown",
   "metadata": {},
   "source": [
    "### Delve deeper\n",
    "DeepTrain offers much beyond the minimals; it's suggested to proceed with the advanced example before\n",
    "exploring others."
   ]
  }
 ],
 "metadata": {
  "kernelspec": {
   "display_name": "Python 3",
   "language": "python",
   "name": "python3"
  },
  "language_info": {
   "codemirror_mode": {
    "name": "ipython",
    "version": 3
   },
   "file_extension": ".py",
   "mimetype": "text/x-python",
   "name": "python",
   "nbconvert_exporter": "python",
   "pygments_lexer": "ipython3",
   "version": "3.7.7"
  }
 },
 "nbformat": 4,
 "nbformat_minor": 4
}
