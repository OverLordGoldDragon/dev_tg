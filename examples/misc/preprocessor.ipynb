{
 "cells": [
  {
   "cell_type": "markdown",
   "metadata": {},
   "source": [
    "# Preprocessor & batching logic\n",
    "\n",
    "This example assumes you've read `advanced.ipynb`, and covers:\n",
    "\n",
    "  - Creating custom `Preprocessor`\n",
    "  - How train & val loop and `DataGenerator` logic can be changed via `Preprocessor`"
   ]
  },
  {
   "cell_type": "code",
   "execution_count": 1,
   "metadata": {},
   "outputs": [],
   "source": [
    "import deeptrain\n",
    "deeptrain.util.misc.append_examples_dir_to_sys_path()\n",
    "\n",
    "from utils import make_autoencoder, init_session, AE_CONFIGS as C\n",
    "from deeptrain.util.preprocessors import Preprocessor\n",
    "import numpy as np"
   ]
  },
  {
   "cell_type": "code",
   "execution_count": 2,
   "metadata": {},
   "outputs": [],
   "source": [
    "%config InlineBackend.figure_format = 'retina'  # greatly improve display quality"
   ]
  },
  {
   "cell_type": "markdown",
   "metadata": {},
   "source": [
    "Preprocessor communicates with DataGenerator twofold:\n",
    " - .process() is called in DataGenerator.get()\n",
    " - DataGenerator sets and gets following attributes *through* Preprocessor:\n",
    "   - `batch_exhausted`, `batch_loaded`, `slices_per_batch`, `slice_idx`\n",
    " - Thus, Preprocessor can dictate train & validation loop logic by specifying\n",
    "   when a batch ends (setting `batch_exhausted`) in `.process()`, when\n",
    "   some condition holds"
   ]
  },
  {
   "cell_type": "markdown",
   "metadata": {},
   "source": [
    "## RandCropPreprocessor\n",
    "\n",
    "Below preprocessor randomly crops images to a predefined width & height,\n",
    "as an example of `.process()` in action. A better example of Preprocessor\n",
    "communicating with DataGenerator is the builtin\n",
    "`deeptrain.util.preprocessors.TimeseriesPreprocessor`, demonstrated in\n",
    "`examples/misc/timeseries`."
   ]
  },
  {
   "cell_type": "code",
   "execution_count": 3,
   "metadata": {},
   "outputs": [],
   "source": [
    "class RandCropPreprocessor(Preprocessor):\n",
    "    \"\"\"2D random crop. MNIST is 28x28, we try 25x25 crops,\n",
    "    e.g. batch[2:27, 3:28].\"\"\"\n",
    "    def __init__(self, size, crop_batch=True, crop_labels=False,\n",
    "                 crop_same=False):\n",
    "        # length          -> (length, length)\n",
    "        # (width, height) -> (width, height)\n",
    "        assert isinstance(size, (tuple, int))\n",
    "        self.size = size if isinstance(size, tuple) else (size, size)\n",
    "\n",
    "        self.crop_batch = crop_batch\n",
    "        self.crop_labels = crop_labels\n",
    "        self.crop_same = crop_same\n",
    "\n",
    "    def process(self, batch, labels):\n",
    "        if self.crop_batch:\n",
    "            (x_start, x_end), (y_start, y_end) = self._make_crop_mask(batch)\n",
    "            batch = batch[:, x_start:x_end, y_start:y_end]\n",
    "        if self.crop_labels:\n",
    "            if not self.crop_same or not self.crop_batch:\n",
    "                (x_start, x_end), (y_start, y_end\n",
    "                                   ) = self._make_crop_mask(labels)\n",
    "            labels = labels[:, x_start:x_end, y_start:y_end]\n",
    "        return batch, labels\n",
    "\n",
    "    def _make_crop_mask(self, data):\n",
    "        _, w, h, *_ = data.shape  # (samples, width, height, channels)\n",
    "        x_offset = np.random.randint(0, w - self.size[0])\n",
    "        y_offset = np.random.randint(0, h - self.size[1])\n",
    "        x_start, x_end = x_offset, x_offset + self.size[0]\n",
    "        y_start, y_end = y_offset, y_offset + self.size[1]\n",
    "        return (x_start, x_end), (y_start, y_end)"
   ]
  },
  {
   "cell_type": "code",
   "execution_count": 4,
   "metadata": {},
   "outputs": [],
   "source": [
    "C['datagen'    ]['preprocessor'] = RandCropPreprocessor(size=24)\n",
    "C['val_datagen']['preprocessor'] = RandCropPreprocessor(size=24)\n",
    "C['datagen'    ]['batch_size'] = 128\n",
    "C['val_datagen']['batch_size'] = 128\n",
    "C['model']['batch_shape'] = (128, 24, 24, 1)\n",
    "C['traingen']['iter_verbosity'] = 0\n",
    "C['traingen']['epochs'] = 1"
   ]
  },
  {
   "cell_type": "code",
   "execution_count": 5,
   "metadata": {},
   "outputs": [
    {
     "name": "stdout",
     "output_type": "stream",
     "text": [
      "\u001b[31mWARNING:\u001b[0m multiple file extensions found in `path`; only .npy will be used \n",
      "Discovered 48 files with matching format\n",
      "48 set nums inferred; if more are expected, ensure file names contain a common substring w/ a number (e.g. 'train1.npy', 'train2.npy', etc)\n",
      "DataGenerator initiated\n",
      "\n",
      "\u001b[31mWARNING:\u001b[0m multiple file extensions found in `path`; only .npy will be used \n",
      "Discovered 36 files with matching format\n",
      "36 set nums inferred; if more are expected, ensure file names contain a common substring w/ a number (e.g. 'train1.npy', 'train2.npy', etc)\n",
      "DataGenerator initiated\n",
      "\n",
      "\u001b[34mNOTE:\u001b[0m will exclude `labels` from saving when `input_as_labels=True`; to keep 'labels', add '{labels}'to `saveskip_list` instead\n",
      "Preloading superbatch ... \u001b[31mWARNING:\u001b[0m multiple file extensions found in `path`; only .npy will be used \n",
      "Discovered 48 files with matching format\n",
      "................................................ finished, w/ 6144 total samples\n",
      "Train initial data prepared\n",
      "Preloading superbatch ... \u001b[31mWARNING:\u001b[0m multiple file extensions found in `path`; only .npy will be used \n",
      "Discovered 36 files with matching format\n",
      ".................................... finished, w/ 4608 total samples\n",
      "Val initial data prepared\n",
      "Logging ON; directory (new): C:\\Users\\OverL\\Desktop\\School\\Deep Learning\\DL_Code\\dev_tg\\examples\\dir\\outputs\\logs\\M8__model-nadam__min999.000\n"
     ]
    }
   ],
   "source": [
    "tg = init_session(C, make_autoencoder)"
   ]
  },
  {
   "cell_type": "code",
   "execution_count": 6,
   "metadata": {},
   "outputs": [
    {
     "name": "stdout",
     "output_type": "stream",
     "text": [
      "\n",
      "Data set_nums shuffled\n",
      "\n",
      "\n",
      "_____________________\n",
      "\u001b[4m EPOCH 1 -- COMPLETE \u001b[0m\n",
      "\n",
      "\n",
      "\n",
      "Validating...\n",
      "TrainGenerator state saved\n",
      "Model report generated and saved\n",
      "Best model saved to C:\\Users\\OverL\\Desktop\\School\\Deep Learning\\DL_Code\\dev_tg\\examples\\dir\\outputs\\models\\M8__model-nadam__min.148\n",
      "TrainGenerator state saved\n",
      "Model report generated and saved\n"
     ]
    },
    {
     "data": {
      "image/png": "[encoded data removed]",
      "text/plain": [
       "<Figure size 705.6x277.2 with 1 Axes>"
      ]
     },
     "metadata": {
      "image/png": {
       "height": 243,
       "width": 590
      },
      "needs_background": "light"
     },
     "output_type": "display_data"
    },
    {
     "name": "stdout",
     "output_type": "stream",
     "text": [
      "Training has concluded.\n"
     ]
    }
   ],
   "source": [
    "tg.train()"
   ]
  },
  {
   "cell_type": "markdown",
   "metadata": {},
   "source": [
    "## TimeseriesPreprocessor\n",
    "\n",
    "A better example of `Preprocessor` communicating with `DataGenerator` is the builtin `deeptrain.util.preprocessors.TimeseriesPreprocessor`, demonstrated in `examples/misc/timeseries`. \n",
    "Its main logic methods are worth inspecting."
   ]
  },
  {
   "cell_type": "markdown",
   "metadata": {},
   "source": [
    "`.process()` checks if we're at the first slice (window), and sets the window sequence length and number of windows per batch accordingly. This enables having variable windows per batch."
   ]
  },
  {
   "cell_type": "code",
   "execution_count": 7,
   "metadata": {},
   "outputs": [
    {
     "name": "stdout",
     "output_type": "stream",
     "text": [
      "    def process(self, batch, labels):\n",
      "        \"\"\"Return next `batch` window, and unchanged `labels`.\"\"\"\n",
      "        if self.slice_idx == 0:\n",
      "            # ensure number of windows accurate for every new batch\n",
      "            self._batch_timesteps = batch.shape[1]\n",
      "            self._set_slices_per_batch()\n",
      "        return self._next_window(batch), labels\n",
      "\n"
     ]
    }
   ],
   "source": [
    "from deeptrain.util.preprocessors import TimeseriesPreprocessor\n",
    "from inspect import getsource\n",
    "print(getsource(TimeseriesPreprocessor.process))"
   ]
  },
  {
   "cell_type": "markdown",
   "metadata": {},
   "source": [
    "`._next_window()` fetches next window in the sequence according to `slice_idx`, `window_size`, and two other attrs (see docs)"
   ]
  },
  {
   "cell_type": "code",
   "execution_count": 8,
   "metadata": {},
   "outputs": [
    {
     "name": "stdout",
     "output_type": "stream",
     "text": [
      "    def _next_window(self, batch):\n",
      "        \"\"\"Fetches temporal slice according to `window_size`, `slide_size`,\n",
      "        `start_increment`, and `slice_idx`;\n",
      "        See :class:`TimeseriesPreprocessor` for examples.\"\"\"\n",
      "        start = self.slice_idx * self.slide_size + self.start_increment\n",
      "        end   = start + self.window_size\n",
      "        return batch[:, start:end]\n",
      "\n"
     ]
    }
   ],
   "source": [
    "print(getsource(TimeseriesPreprocessor._next_window))"
   ]
  },
  {
   "cell_type": "markdown",
   "metadata": {},
   "source": [
    "Lastly, it tells `DataGenerator` that batch ends when the last window was processed:"
   ]
  },
  {
   "cell_type": "code",
   "execution_count": 9,
   "metadata": {},
   "outputs": [
    {
     "name": "stdout",
     "output_type": "stream",
     "text": [
      "    def update_state(self):\n",
      "        \"\"\"Increment `slice_idx` by 1; if `slice_idx == slices_per_batch`,\n",
      "        set `batch_exhausted = True`, `batch_loaded = False`.\n",
      "        \"\"\"\n",
      "        self.slice_idx += 1\n",
      "        if self.slice_idx == self.slices_per_batch:\n",
      "            self.batch_exhausted = True\n",
      "            self.batch_loaded = False\n",
      "\n"
     ]
    }
   ],
   "source": [
    "print(getsource(TimeseriesPreprocessor.update_state))  # called within DataGenerator.update_state"
   ]
  }
 ],
 "metadata": {
  "kernelspec": {
   "display_name": "Python 3",
   "language": "python",
   "name": "python3"
  },
  "language_info": {
   "codemirror_mode": {
    "name": "ipython",
    "version": 3
   },
   "file_extension": ".py",
   "mimetype": "text/x-python",
   "name": "python",
   "nbconvert_exporter": "python",
   "pygments_lexer": "ipython3",
   "version": "3.7.7"
  }
 },
 "nbformat": 4,
 "nbformat_minor": 4
}
