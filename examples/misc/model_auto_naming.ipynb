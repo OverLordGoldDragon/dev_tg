{
 "cells": [
  {
   "cell_type": "markdown",
   "metadata": {},
   "source": [
    "# Model Auto-naming\n",
    "\n",
    "This example assumes you've read `advanced.py`, and covers:\n",
    "\n",
    "  - How to configure automatic model naming"
   ]
  },
  {
   "cell_type": "code",
   "execution_count": 1,
   "metadata": {},
   "outputs": [],
   "source": [
    "import deeptrain\n",
    "deeptrain.util.misc.append_examples_dir_to_sys_path()\n",
    "\n",
    "from utils import make_autoencoder, init_session, AE_CONFIGS as C"
   ]
  },
  {
   "cell_type": "code",
   "execution_count": 2,
   "metadata": {},
   "outputs": [],
   "source": [
    "%config InlineBackend.figure_format = 'retina'  # greatly improve display quality"
   ]
  },
  {
   "cell_type": "markdown",
   "metadata": {},
   "source": [
    "DeepTrain auto-names model based on `model_name_configs`, a dict.\n",
    "\n",
    "  - Keys denote either TrainGenerator attributes, its object's attributes\n",
    "    (via `.`), or `model_configs` keys. \n",
    "     - `'best_key_metric'` reflects the actual value, if `TrainGenerator` checkpointed since last change.\n",
    "  - Values denote attribute aliases; if blank or None, will use attrs as given."
   ]
  },
  {
   "cell_type": "code",
   "execution_count": 3,
   "metadata": {},
   "outputs": [],
   "source": [
    "name_cfg = {'datagen.batch_size': 'BS',\n",
    "            'filters': 'filt',\n",
    "            'optimizer': '',\n",
    "            'lr': '',\n",
    "            'best_key_metric': '__max'}\n",
    "C['traingen'].update({'epochs': 1,\n",
    "                      'model_base_name': \"AE\",\n",
    "                      'model_name_configs': name_cfg})\n",
    "C['model']['optimizer'] = 'Adam'\n",
    "C['model']['lr'] = 1e-4"
   ]
  },
  {
   "cell_type": "code",
   "execution_count": 4,
   "metadata": {},
   "outputs": [
    {
     "name": "stdout",
     "output_type": "stream",
     "text": [
      "\u001b[31mWARNING:\u001b[0m multiple file extensions found in `path`; only .npy will be used \n",
      "Discovered 48 files with matching format\n",
      "48 set nums inferred; if more are expected, ensure file names contain a common substring w/ a number (e.g. 'train1.npy', 'train2.npy', etc)\n",
      "DataGenerator initiated\n",
      "\n",
      "\u001b[31mWARNING:\u001b[0m multiple file extensions found in `path`; only .npy will be used \n",
      "Discovered 36 files with matching format\n",
      "36 set nums inferred; if more are expected, ensure file names contain a common substring w/ a number (e.g. 'train1.npy', 'train2.npy', etc)\n",
      "DataGenerator initiated\n",
      "\n",
      "\u001b[34mNOTE:\u001b[0m will exclude `labels` from saving when `input_as_labels=True`; to keep 'labels', add '{labels}'to `saveskip_list` instead\n",
      "Preloading superbatch ... \u001b[31mWARNING:\u001b[0m multiple file extensions found in `path`; only .npy will be used \n",
      "Discovered 48 files with matching format\n",
      "................................................ finished, w/ 6144 total samples\n",
      "Train initial data prepared\n",
      "Preloading superbatch ... \u001b[31mWARNING:\u001b[0m multiple file extensions found in `path`; only .npy will be used \n",
      "Discovered 36 files with matching format\n",
      ".................................... finished, w/ 4608 total samples\n",
      "Val initial data prepared\n",
      "Logging ON; directory (new): C:\\Users\\OverL\\Desktop\\School\\Deep Learning\\DL_Code\\dev_tg\\examples\\dir\\outputs\\logs\\M24__AE-filt6_12_2_6_12-Adam-1e-4__max999.000\n"
     ]
    }
   ],
   "source": [
    "tg = init_session(C, make_autoencoder)"
   ]
  },
  {
   "cell_type": "code",
   "execution_count": 5,
   "metadata": {},
   "outputs": [
    {
     "name": "stdout",
     "output_type": "stream",
     "text": [
      "\n",
      "Fitting set 1...   Loss = 0.205347 \n",
      "Fitting set 2...   Loss = 0.205570 \n",
      "Fitting set 3...   Loss = 0.205841 \n",
      "Fitting set 4...   Loss = 0.205306 \n",
      "Fitting set 5...   Loss = 0.205284 \n",
      "Fitting set 6...   Loss = 0.204465 \n",
      "Fitting set 7...   Loss = 0.203791 \n",
      "Fitting set 8...   Loss = 0.203412 \n",
      "Fitting set 9...   Loss = 0.202891 \n",
      "Fitting set 10...  Loss = 0.202464 \n",
      "Fitting set 11...  Loss = 0.202195 \n",
      "Fitting set 12...  Loss = 0.201743 \n",
      "Fitting set 13...  Loss = 0.201295 \n",
      "Fitting set 14...  Loss = 0.200717 \n",
      "Fitting set 15...  Loss = 0.200447 \n",
      "Fitting set 16...  Loss = 0.199955 \n",
      "Fitting set 17...  Loss = 0.199459 \n",
      "Fitting set 18...  Loss = 0.198987 \n",
      "Fitting set 19...  Loss = 0.198568 \n",
      "Fitting set 20...  Loss = 0.198123 \n",
      "Fitting set 21...  Loss = 0.197686 \n",
      "Fitting set 22...  Loss = 0.197229 \n",
      "Fitting set 23...  Loss = 0.196724 \n",
      "Fitting set 24...  Loss = 0.196210 \n",
      "Fitting set 25...  Loss = 0.195751 \n",
      "Fitting set 26...  Loss = 0.195317 \n",
      "Fitting set 27...  Loss = 0.194939 \n",
      "Fitting set 28...  Loss = 0.194466 \n",
      "Fitting set 29...  Loss = 0.194008 \n",
      "Fitting set 30...  Loss = 0.193527 \n",
      "Fitting set 31...  Loss = 0.193090 \n",
      "Fitting set 32...  Loss = 0.192621 \n",
      "Fitting set 33...  Loss = 0.192205 \n",
      "Fitting set 34...  Loss = 0.191767 \n",
      "Fitting set 35...  Loss = 0.191401 \n",
      "Fitting set 36...  Loss = 0.190945 \n",
      "Fitting set 37...  Loss = 0.190488 \n",
      "Fitting set 38...  Loss = 0.190039 \n",
      "Fitting set 39...  Loss = 0.189646 \n",
      "Fitting set 40...  Loss = 0.189216 \n",
      "Fitting set 41...  Loss = 0.188816 \n",
      "Fitting set 42...  Loss = 0.188389 \n",
      "Fitting set 43...  Loss = 0.188019 \n",
      "Fitting set 44...  Loss = 0.187598 \n",
      "Fitting set 45...  Loss = 0.187172 \n",
      "Fitting set 46...  Loss = 0.186706 \n",
      "Fitting set 47...  Loss = 0.186294 \n",
      "Fitting set 48...  Loss = 0.185868 \n",
      "Data set_nums shuffled\n",
      "\n",
      "\n",
      "_____________________\n",
      "\u001b[4m EPOCH 1 -- COMPLETE \u001b[0m\n",
      "\n",
      "\n",
      "\n",
      "Validating...\n",
      "Validating set 1...  Loss = 0.204086 \n",
      "Validating set 2...  Loss = 0.204312 \n",
      "Validating set 3...  Loss = 0.203898 \n",
      "Validating set 4...  Loss = 0.204321 \n",
      "Validating set 5...  Loss = 0.204194 \n",
      "Validating set 6...  Loss = 0.203764 \n",
      "Validating set 7...  Loss = 0.204192 \n",
      "Validating set 8...  Loss = 0.203756 \n",
      "Validating set 9...  Loss = 0.203468 \n",
      "Validating set 10... Loss = 0.203647 \n",
      "Validating set 11... Loss = 0.204323 \n",
      "Validating set 12... Loss = 0.204091 \n",
      "Validating set 13... Loss = 0.203808 \n",
      "Validating set 14... Loss = 0.203922 \n",
      "Validating set 15... Loss = 0.203660 \n",
      "Validating set 16... Loss = 0.204527 \n",
      "Validating set 17... Loss = 0.204218 \n",
      "Validating set 18... Loss = 0.204619 \n",
      "Validating set 19... Loss = 0.204626 \n",
      "Validating set 20... Loss = 0.203799 \n",
      "Validating set 21... Loss = 0.204016 \n",
      "Validating set 22... Loss = 0.204327 \n",
      "Validating set 23... Loss = 0.204083 \n",
      "Validating set 24... Loss = 0.204104 \n",
      "Validating set 25... Loss = 0.203847 \n",
      "Validating set 26... Loss = 0.203707 \n",
      "Validating set 27... Loss = 0.204004 \n",
      "Validating set 28... Loss = 0.204376 \n",
      "Validating set 29... Loss = 0.204245 \n",
      "Validating set 30... Loss = 0.203682 \n",
      "Validating set 31... Loss = 0.204666 \n",
      "Validating set 32... Loss = 0.203764 \n",
      "Validating set 33... Loss = 0.204916 \n",
      "Validating set 34... Loss = 0.203924 \n",
      "Validating set 35... Loss = 0.203917 \n",
      "Validating set 36... Loss = 0.204442 \n",
      "TrainGenerator state saved\n",
      "Model report generated and saved\n",
      "Best model saved to C:\\Users\\OverL\\Desktop\\School\\Deep Learning\\DL_Code\\dev_tg\\examples\\dir\\outputs\\models\\M24__AE-filt6_12_2_6_12-Adam-1e-4__max.204\n",
      "TrainGenerator state saved\n",
      "Model report generated and saved\n"
     ]
    },
    {
     "data": {
      "image/png": "[encoded data removed]",
      "text/plain": [
       "<Figure size 705.6x277.2 with 1 Axes>"
      ]
     },
     "metadata": {
      "image/png": {
       "height": 243,
       "width": 590
      },
      "needs_background": "light"
     },
     "output_type": "display_data"
    },
    {
     "name": "stdout",
     "output_type": "stream",
     "text": [
      "\u001b[31m16.667% dead -- 'conv2d_1/bias:0'\u001b[0m\n",
      "L = layer index, W = weight tensor index\n",
      "Training has concluded.\n"
     ]
    }
   ],
   "source": [
    "tg.train()"
   ]
  },
  {
   "cell_type": "code",
   "execution_count": 6,
   "metadata": {},
   "outputs": [
    {
     "name": "stdout",
     "output_type": "stream",
     "text": [
      "M24__AE-filt6_12_2_6_12-Adam-1e-4__max.204\n"
     ]
    }
   ],
   "source": [
    "print(tg.model_name)"
   ]
  },
  {
   "cell_type": "markdown",
   "metadata": {},
   "source": [
    "Note that `logdir` and best model saves are also named with `model_name`; it, together with `model_num`,\n",
    "enables scalable reference to hundreds of trained models: sort through models by reading off key hyperparameters."
   ]
  },
  {
   "cell_type": "code",
   "execution_count": 7,
   "metadata": {},
   "outputs": [
    {
     "name": "stdout",
     "output_type": "stream",
     "text": [
      "C:\\Users\\OverL\\Desktop\\School\\Deep Learning\\DL_Code\\dev_tg\\examples\\dir\\outputs\\logs\\M24__AE-filt6_12_2_6_12-Adam-1e-4__max999.000\n",
      "C:\\Users\\OverL\\Desktop\\School\\Deep Learning\\DL_Code\\dev_tg\\examples\\dir\\outputs\\models\\M24__AE-filt6_12_2_6_12-Adam-1e-4__max.204__state.h5\n"
     ]
    }
   ],
   "source": [
    "print(tg.logdir)\n",
    "print(tg.get_last_log('state', best=True))"
   ]
  }
 ],
 "metadata": {
  "kernelspec": {
   "display_name": "Python 3",
   "language": "python",
   "name": "python3"
  },
  "language_info": {
   "codemirror_mode": {
    "name": "ipython",
    "version": 3
   },
   "file_extension": ".py",
   "mimetype": "text/x-python",
   "name": "python",
   "nbconvert_exporter": "python",
   "pygments_lexer": "ipython3",
   "version": "3.7.7"
  }
 },
 "nbformat": 4,
 "nbformat_minor": 4
}
