{
 "cells": [
  {
   "cell_type": "markdown",
   "metadata": {},
   "source": [
    "# Model Auto-naming\n",
    "\n",
    "This example assumes you've read `advanced.py`, and covers:\n",
    "\n",
    "  - How to configure automatic model naming"
   ]
  },
  {
   "cell_type": "code",
   "execution_count": 1,
   "metadata": {},
   "outputs": [],
   "source": [
    "import deeptrain\n",
    "deeptrain.util.misc.append_examples_dir_to_sys_path()\n",
    "\n",
    "from utils import make_autoencoder, init_session, AE_CONFIGS as C"
   ]
  },
  {
   "cell_type": "markdown",
   "metadata": {},
   "source": [
    "DeepTrain auto-names model based on `model_name_configs`, a dict.\n",
    "\n",
    "  - Keys denote either TrainGenerator attributes, its object's attributes\n",
    "    (via `.`), or `model_configs` keys. \n",
    "     - `'best_key_metric'` reflects the actual value, if `TrainGenerator` checkpointed since last change.\n",
    "  - Values denote attribute aliases; if blank or None, will use attrs as given."
   ]
  },
  {
   "cell_type": "code",
   "execution_count": 2,
   "metadata": {},
   "outputs": [],
   "source": [
    "name_cfg = {'datagen.batch_size': 'BS',\n",
    "            'filters': 'filt',\n",
    "            'optimizer': '',\n",
    "            'lr': '',\n",
    "            'best_key_metric': '__max'}\n",
    "C['traingen'].update({'epochs': 1,\n",
    "                      'model_base_name': \"AE\",\n",
    "                      'model_name_configs': name_cfg})\n",
    "C['model']['optimizer'] = 'Adam'\n",
    "C['model']['lr'] = 1e-4"
   ]
  },
  {
   "cell_type": "code",
   "execution_count": 3,
   "metadata": {},
   "outputs": [
    {
     "name": "stdout",
     "output_type": "stream",
     "text": [
      "\u001b[31mWARNING:\u001b[0m multiple file extensions found in `path`; only .npy will be used \n",
      "Discovered 48 files with matching format\n",
      "48 set nums inferred; if more are expected, ensure file names contain a common substring w/ a number (e.g. 'train1.npy', 'train2.npy', etc)\n",
      "DataGenerator initiated\n",
      "\n",
      "\u001b[31mWARNING:\u001b[0m multiple file extensions found in `path`; only .npy will be used \n",
      "Discovered 36 files with matching format\n",
      "36 set nums inferred; if more are expected, ensure file names contain a common substring w/ a number (e.g. 'train1.npy', 'train2.npy', etc)\n",
      "DataGenerator initiated\n",
      "\n",
      "\u001b[34mNOTE:\u001b[0m will exclude `labels` from saving when `input_as_labels=True`; to keep 'labels', add '{labels}'to `saveskip_list` instead\n",
      "Preloading superbatch ... \u001b[31mWARNING:\u001b[0m multiple file extensions found in `path`; only .npy will be used \n",
      "Discovered 48 files with matching format\n",
      "................................................ finished, w/ 6144 total samples\n",
      "Train initial data prepared\n",
      "Preloading superbatch ... \u001b[31mWARNING:\u001b[0m multiple file extensions found in `path`; only .npy will be used \n",
      "Discovered 36 files with matching format\n",
      ".................................... finished, w/ 4608 total samples\n",
      "Val initial data prepared\n",
      "Logging ON; directory (new): C:\\deeptrain\\examples\\dir\\logs\\M9__AE-filt6_12_2_6_12-Adam-1e-4__max999.000\n"
     ]
    }
   ],
   "source": [
    "tg = init_session(C, make_autoencoder)"
   ]
  },
  {
   "cell_type": "code",
   "execution_count": 4,
   "metadata": {},
   "outputs": [
    {
     "name": "stdout",
     "output_type": "stream",
     "text": [
      "\n",
      "Fitting set 1...   Loss = 0.303295 \n",
      "Fitting set 2...   Loss = 0.301919 \n",
      "Fitting set 3...   Loss = 0.301043 \n",
      "Fitting set 4...   Loss = 0.300576 \n",
      "Fitting set 5...   Loss = 0.300247 \n",
      "Fitting set 6...   Loss = 0.300119 \n",
      "Fitting set 7...   Loss = 0.299533 \n",
      "Fitting set 8...   Loss = 0.299117 \n",
      "Fitting set 9...   Loss = 0.298494 \n",
      "Fitting set 10...  Loss = 0.297995 \n",
      "Fitting set 11...  Loss = 0.297355 \n",
      "Fitting set 12...  Loss = 0.296885 \n",
      "Fitting set 13...  Loss = 0.296406 \n",
      "Fitting set 14...  Loss = 0.295988 \n",
      "Fitting set 15...  Loss = 0.295545 \n",
      "Fitting set 16...  Loss = 0.295146 \n",
      "Fitting set 17...  Loss = 0.294726 \n",
      "Fitting set 18...  Loss = 0.294205 \n",
      "Fitting set 19...  Loss = 0.293743 \n",
      "Fitting set 20...  Loss = 0.293248 \n",
      "Fitting set 21...  Loss = 0.292782 \n",
      "Fitting set 22...  Loss = 0.292293 \n",
      "Fitting set 23...  Loss = 0.291838 \n",
      "Fitting set 24...  Loss = 0.291419 \n",
      "Fitting set 25...  Loss = 0.290918 \n",
      "Fitting set 26...  Loss = 0.290412 \n",
      "Fitting set 27...  Loss = 0.289942 \n",
      "Fitting set 28...  Loss = 0.289465 \n",
      "Fitting set 29...  Loss = 0.288982 \n",
      "Fitting set 30...  Loss = 0.288463 \n",
      "Fitting set 31...  Loss = 0.287996 \n",
      "Fitting set 32...  Loss = 0.287530 \n",
      "Fitting set 33...  Loss = 0.287014 \n",
      "Fitting set 34...  Loss = 0.286521 \n",
      "Fitting set 35...  Loss = 0.286011 \n",
      "Fitting set 36...  Loss = 0.285539 \n",
      "Fitting set 37...  Loss = 0.285035 \n",
      "Fitting set 38...  Loss = 0.284538 \n",
      "Fitting set 39...  Loss = 0.284004 \n",
      "Fitting set 40...  Loss = 0.283527 \n",
      "Fitting set 41...  Loss = 0.283023 \n",
      "Fitting set 42...  Loss = 0.282512 \n",
      "Fitting set 43...  Loss = 0.282022 \n",
      "Fitting set 44...  Loss = 0.281532 \n",
      "Fitting set 45...  Loss = 0.281049 \n",
      "Fitting set 46...  Loss = 0.280587 \n",
      "Fitting set 47...  Loss = 0.280085 \n",
      "Fitting set 48...  Loss = 0.279605 \n",
      "Data set_nums shuffled\n",
      "\n",
      "\n",
      "_____________________\n",
      "\u001b[4m EPOCH 1 -- COMPLETE \u001b[0m\n",
      "\n",
      "\n",
      "\n",
      "Validating...\n",
      "Validating set 1...  Loss = 0.238562 \n",
      "Validating set 2...  Loss = 0.238878 \n",
      "Validating set 3...  Loss = 0.237879 \n",
      "Validating set 4...  Loss = 0.238345 \n",
      "Validating set 5...  Loss = 0.238605 \n",
      "Validating set 6...  Loss = 0.237900 \n",
      "Validating set 7...  Loss = 0.238646 \n",
      "Validating set 8...  Loss = 0.238011 \n",
      "Validating set 9...  Loss = 0.238837 \n",
      "Validating set 10... Loss = 0.238321 \n",
      "Validating set 11... Loss = 0.238181 \n",
      "Validating set 12... Loss = 0.238668 \n",
      "Validating set 13... Loss = 0.237183 \n",
      "Validating set 14... Loss = 0.239100 \n",
      "Validating set 15... Loss = 0.238098 \n",
      "Validating set 16... Loss = 0.237906 \n",
      "Validating set 17... Loss = 0.238677 \n",
      "Validating set 18... Loss = 0.239686 \n",
      "Validating set 19... Loss = 0.238267 \n",
      "Validating set 20... Loss = 0.238836 \n",
      "Validating set 21... Loss = 0.238081 \n",
      "Validating set 22... Loss = 0.238481 \n",
      "Validating set 23... Loss = 0.238832 \n",
      "Validating set 24... Loss = 0.238768 \n",
      "Validating set 25... Loss = 0.238193 \n",
      "Validating set 26... Loss = 0.238238 \n",
      "Validating set 27... Loss = 0.237997 \n",
      "Validating set 28... Loss = 0.238209 \n",
      "Validating set 29... Loss = 0.238841 \n",
      "Validating set 30... Loss = 0.238128 \n",
      "Validating set 31... Loss = 0.238263 \n",
      "Validating set 32... Loss = 0.238241 \n",
      "Validating set 33... Loss = 0.238068 \n",
      "Validating set 34... Loss = 0.237933 \n",
      "Validating set 35... Loss = 0.238575 \n",
      "Validating set 36... Loss = 0.238656 \n",
      "TrainGenerator state saved\n",
      "Model report generated and saved\n",
      "Best model saved to C:\\deeptrain\\examples\\dir\\models\\M9__AE-filt6_12_2_6_12-Adam-1e-4__max.238\n",
      "TrainGenerator state saved\n",
      "Model report generated and saved\n"
     ]
    },
    {
     "data": {
      "image/png": "[encoded data removed]",
      "text/plain": [
       "<Figure size 705.6x277.2 with 1 Axes>"
      ]
     },
     "metadata": {
      "image/png": {
       "height": 243,
       "width": 590
      },
      "needs_background": "light"
     },
     "output_type": "display_data"
    },
    {
     "name": "stdout",
     "output_type": "stream",
     "text": [
      "Training has concluded.\n"
     ]
    }
   ],
   "source": [
    "tg.train()"
   ]
  },
  {
   "cell_type": "code",
   "execution_count": 5,
   "metadata": {},
   "outputs": [
    {
     "name": "stdout",
     "output_type": "stream",
     "text": [
      "M9__AE-filt6_12_2_6_12-Adam-1e-4__max.238\n"
     ]
    }
   ],
   "source": [
    "print(tg.model_name)"
   ]
  },
  {
   "cell_type": "markdown",
   "metadata": {},
   "source": [
    "Note that `logdir` and best model saves are also named with `model_name`; it, together with `model_num`,\n",
    "enables scalable reference to hundreds of trained models: sort through models by reading off key hyperparameters."
   ]
  },
  {
   "cell_type": "code",
   "execution_count": 6,
   "metadata": {},
   "outputs": [
    {
     "name": "stdout",
     "output_type": "stream",
     "text": [
      "C:\\deeptrain\\examples\\dir\\logs\\M9__AE-filt6_12_2_6_12-Adam-1e-4__max999.000\n",
      "C:\\deeptrain\\examples\\dir\\models\\M9__AE-filt6_12_2_6_12-Adam-1e-4__max.238__state.h5\n"
     ]
    }
   ],
   "source": [
    "print(tg.logdir)\n",
    "print(tg.get_last_log('state', best=True))"
   ]
  }
 ],
 "metadata": {
  "kernelspec": {
   "display_name": "Python 3",
   "language": "python",
   "name": "python3"
  },
  "language_info": {
   "codemirror_mode": {
    "name": "ipython",
    "version": 3
   },
   "file_extension": ".py",
   "mimetype": "text/x-python",
   "name": "python",
   "nbconvert_exporter": "python",
   "pygments_lexer": "ipython3",
   "version": "3.7.7"
  }
 },
 "nbformat": 4,
 "nbformat_minor": 4
}
