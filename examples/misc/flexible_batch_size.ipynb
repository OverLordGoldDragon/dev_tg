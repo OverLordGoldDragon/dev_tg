{
 "cells": [
  {
   "cell_type": "markdown",
   "metadata": {},
   "source": [
    "# Flexible batch_size & Faster SSD Loading\n",
    "\n",
    "This example assumes you've read `advanced.ipynb`, and covers:\n",
    "\n",
    "  - How batch_size can be a multiple of batch_size on file\n",
    "  - Faster SSD loading via flexible batch size"
   ]
  },
  {
   "cell_type": "code",
   "execution_count": 1,
   "metadata": {},
   "outputs": [],
   "source": [
    "import deeptrain\n",
    "deeptrain.util.misc.append_examples_dir_to_sys_path()\n",
    "\n",
    "from utils import make_autoencoder, init_session, AE_CONFIGS as C"
   ]
  },
  {
   "cell_type": "markdown",
   "metadata": {},
   "source": [
    "DeepTrain can use `batch_size` an integral multiple of one on file, by splitting up into smaller batches or combining \n",
    "into larger. \n",
    "\n",
    "If a file stores 128 samples, we can split it to x2 64-sample batches, or combine two files into\n",
    "x1 256-sample batch."
   ]
  },
  {
   "cell_type": "code",
   "execution_count": 2,
   "metadata": {},
   "outputs": [],
   "source": [
    "C['traingen']['epochs'] = 1"
   ]
  },
  {
   "cell_type": "markdown",
   "metadata": {},
   "source": [
    "### User batch_size=64, file batch_size=128"
   ]
  },
  {
   "cell_type": "code",
   "execution_count": 3,
   "metadata": {},
   "outputs": [],
   "source": [
    "C['datagen'    ]['batch_size'] = 64\n",
    "C['val_datagen']['batch_size'] = 64\n",
    "C['model']['batch_shape'] = (64, 28, 28, 1)"
   ]
  },
  {
   "cell_type": "code",
   "execution_count": 4,
   "metadata": {},
   "outputs": [
    {
     "name": "stdout",
     "output_type": "stream",
     "text": [
      "\u001b[31mWARNING:\u001b[0m multiple file extensions found in `path`; only .npy will be used \n",
      "Discovered 48 files with matching format\n",
      "48 set nums inferred; if more are expected, ensure file names contain a common substring w/ a number (e.g. 'train1.npy', 'train2.npy', etc)\n",
      "DataGenerator initiated\n",
      "\n",
      "\u001b[31mWARNING:\u001b[0m multiple file extensions found in `path`; only .npy will be used \n",
      "Discovered 36 files with matching format\n",
      "36 set nums inferred; if more are expected, ensure file names contain a common substring w/ a number (e.g. 'train1.npy', 'train2.npy', etc)\n",
      "DataGenerator initiated\n",
      "\n",
      "\u001b[34mNOTE:\u001b[0m will exclude `labels` from saving when `input_as_labels=True`; to keep 'labels', add '{labels}'to `saveskip_list` instead\n",
      "Preloading superbatch ... \u001b[31mWARNING:\u001b[0m multiple file extensions found in `path`; only .npy will be used \n",
      "Discovered 48 files with matching format\n",
      "................................................ finished, w/ 6144 total samples\n",
      "Train initial data prepared\n",
      "Preloading superbatch ... \u001b[31mWARNING:\u001b[0m multiple file extensions found in `path`; only .npy will be used \n",
      "Discovered 36 files with matching format\n",
      ".................................... finished, w/ 4608 total samples\n",
      "Val initial data prepared\n",
      "Logging ON; directory (new): C:\\deeptrain\\examples\\dir\\logs\\M3__model-nadam__min999.000\n"
     ]
    }
   ],
   "source": [
    "tg = init_session(C, make_autoencoder)"
   ]
  },
  {
   "cell_type": "code",
   "execution_count": 5,
   "metadata": {},
   "outputs": [
    {
     "name": "stdout",
     "output_type": "stream",
     "text": [
      "\n",
      "Fitting set 1-a... Loss = 0.258925 \n",
      "Fitting set 1-b... Loss = 0.253132 \n",
      "Fitting set 2-a... Loss = 0.248714 \n",
      "Fitting set 2-b... Loss = 0.244794 \n",
      "Fitting set 3-a... Loss = 0.240528 \n",
      "Fitting set 3-b... Loss = 0.236792 \n",
      "Fitting set 4-a... Loss = 0.233093 \n",
      "Fitting set 4-b... Loss = 0.229193 \n",
      "Fitting set 5-a... Loss = 0.225168 \n",
      "Fitting set 5-b... Loss = 0.221404 \n",
      "Fitting set 6-a... Loss = 0.217777 \n",
      "Fitting set 6-b... Loss = 0.214355 \n",
      "Fitting set 7-a... Loss = 0.210822 \n",
      "Fitting set 7-b... Loss = 0.207650 \n",
      "Fitting set 8-a... Loss = 0.204442 \n",
      "Fitting set 8-b... Loss = 0.201394 \n",
      "Fitting set 9-a... Loss = 0.198212 \n",
      "Fitting set 9-b... Loss = 0.195283 \n",
      "Fitting set 10-a... Loss = 0.192382 \n",
      "Fitting set 10-b... Loss = 0.189485 \n",
      "Fitting set 11-a... Loss = 0.186594 \n",
      "Fitting set 11-b... Loss = 0.183790 \n",
      "Fitting set 12-a... Loss = 0.181016 \n",
      "Fitting set 12-b... Loss = 0.178265 \n",
      "Fitting set 13-a... Loss = 0.175732 \n",
      "Fitting set 13-b... Loss = 0.173159 \n",
      "Fitting set 14-a... Loss = 0.170662 \n",
      "Fitting set 14-b... Loss = 0.168275 \n",
      "Fitting set 15-a... Loss = 0.165887 \n",
      "Fitting set 15-b... Loss = 0.163576 \n",
      "Fitting set 16-a... Loss = 0.161341 \n",
      "Fitting set 16-b... Loss = 0.159190 \n",
      "Fitting set 17-a... Loss = 0.157046 \n",
      "Fitting set 17-b... Loss = 0.155032 \n",
      "Fitting set 18-a... Loss = 0.153119 \n",
      "Fitting set 18-b... Loss = 0.151234 \n",
      "Fitting set 19-a... Loss = 0.149326 \n",
      "Fitting set 19-b... Loss = 0.147504 \n",
      "Fitting set 20-a... Loss = 0.145753 \n",
      "Fitting set 20-b... Loss = 0.144026 \n",
      "Fitting set 21-a... Loss = 0.142380 \n",
      "Fitting set 21-b... Loss = 0.140762 \n",
      "Fitting set 22-a... Loss = 0.139213 \n",
      "Fitting set 22-b... Loss = 0.137701 \n",
      "Fitting set 23-a... Loss = 0.136231 \n",
      "Fitting set 23-b... Loss = 0.134775 \n",
      "Fitting set 24-a... Loss = 0.133367 \n",
      "Fitting set 24-b... Loss = 0.131993 \n",
      "Fitting set 25-a... Loss = 0.130666 \n",
      "Fitting set 25-b... Loss = 0.129385 \n",
      "Fitting set 26-a... Loss = 0.128131 \n",
      "Fitting set 26-b... Loss = 0.126897 \n",
      "Fitting set 27-a... Loss = 0.125704 \n",
      "Fitting set 27-b... Loss = 0.124558 \n",
      "Fitting set 28-a... Loss = 0.123391 \n",
      "Fitting set 28-b... Loss = 0.122320 \n",
      "Fitting set 29-a... Loss = 0.121234 \n",
      "Fitting set 29-b... Loss = 0.120158 \n",
      "Fitting set 30-a... Loss = 0.119135 \n",
      "Fitting set 30-b... Loss = 0.118139 \n",
      "Fitting set 31-a... Loss = 0.117173 \n",
      "Fitting set 31-b... Loss = 0.116213 \n",
      "Fitting set 32-a... Loss = 0.115311 \n",
      "Fitting set 32-b... Loss = 0.114430 \n",
      "Fitting set 33-a... Loss = 0.113554 \n",
      "Fitting set 33-b... Loss = 0.112672 \n",
      "Fitting set 34-a... Loss = 0.111832 \n",
      "Fitting set 34-b... Loss = 0.110993 \n",
      "Fitting set 35-a... Loss = 0.110203 \n",
      "Fitting set 35-b... Loss = 0.109420 \n",
      "Fitting set 36-a... Loss = 0.108674 \n",
      "Fitting set 36-b... Loss = 0.107918 \n",
      "Fitting set 37-a... Loss = 0.107198 \n",
      "Fitting set 37-b... Loss = 0.106458 \n",
      "Fitting set 38-a... Loss = 0.105749 \n",
      "Fitting set 38-b... Loss = 0.105067 \n",
      "Fitting set 39-a... Loss = 0.104410 \n",
      "Fitting set 39-b... Loss = 0.103764 \n",
      "Fitting set 40-a... Loss = 0.103141 \n",
      "Fitting set 40-b... Loss = 0.102499 \n",
      "Fitting set 41-a... Loss = 0.101859 \n",
      "Fitting set 41-b... Loss = 0.101279 \n",
      "Fitting set 42-a... Loss = 0.100686 \n",
      "Fitting set 42-b... Loss = 0.100075 \n",
      "Fitting set 43-a... Loss = 0.099509 \n",
      "Fitting set 43-b... Loss = 0.098956 \n",
      "Fitting set 44-a... Loss = 0.098396 \n",
      "Fitting set 44-b... Loss = 0.097852 \n",
      "Fitting set 45-a... Loss = 0.097302 \n",
      "Fitting set 45-b... Loss = 0.096763 \n",
      "Fitting set 46-a... Loss = 0.096223 \n",
      "Fitting set 46-b... Loss = 0.095674 \n",
      "Fitting set 47-a... Loss = 0.095153 \n",
      "Fitting set 47-b... Loss = 0.094651 \n",
      "Fitting set 48-a... Loss = 0.094162 \n",
      "Data set_nums shuffled\n",
      "\n",
      "\n",
      "_____________________\n",
      "\u001b[4m EPOCH 1 -- COMPLETE \u001b[0m\n",
      "\n",
      "\n",
      "\n",
      "Validating...\n",
      "Validating set 1-a... Loss = 0.078783 \n",
      "Validating set 1-b... Loss = 0.076317 \n",
      "Validating set 2-a... Loss = 0.075710 \n",
      "Validating set 2-b... Loss = 0.079148 \n",
      "Validating set 3-a... Loss = 0.081881 \n",
      "Validating set 3-b... Loss = 0.080691 \n",
      "Validating set 4-a... Loss = 0.077261 \n",
      "Validating set 4-b... Loss = 0.081151 \n",
      "Validating set 5-a... Loss = 0.079396 \n",
      "Validating set 5-b... Loss = 0.077392 \n",
      "Validating set 6-a... Loss = 0.078506 \n",
      "Validating set 6-b... Loss = 0.080747 \n",
      "Validating set 7-a... Loss = 0.078852 \n",
      "Validating set 7-b... Loss = 0.076874 \n",
      "Validating set 8-a... Loss = 0.079984 \n",
      "Validating set 8-b... Loss = 0.077159 \n",
      "Validating set 9-a... Loss = 0.077525 \n",
      "Validating set 9-b... Loss = 0.076241 \n",
      "Validating set 10-a... Loss = 0.078210 \n",
      "Validating set 10-b... Loss = 0.078955 \n",
      "Validating set 11-a... Loss = 0.080569 \n",
      "Validating set 11-b... Loss = 0.077822 \n",
      "Validating set 12-a... Loss = 0.079494 \n",
      "Validating set 12-b... Loss = 0.075832 \n",
      "Validating set 13-a... Loss = 0.079898 \n",
      "Validating set 13-b... Loss = 0.083832 \n",
      "Validating set 14-a... Loss = 0.077217 \n",
      "Validating set 14-b... Loss = 0.075610 \n",
      "Validating set 15-a... Loss = 0.082518 \n",
      "Validating set 15-b... Loss = 0.077477 \n",
      "Validating set 16-a... Loss = 0.081708 \n",
      "Validating set 16-b... Loss = 0.081968 \n",
      "Validating set 17-a... Loss = 0.080029 \n",
      "Validating set 17-b... Loss = 0.076852 \n",
      "Validating set 18-a... Loss = 0.076589 \n",
      "Validating set 18-b... Loss = 0.077327 \n",
      "Validating set 19-a... Loss = 0.079059 \n",
      "Validating set 19-b... Loss = 0.080847 \n",
      "Validating set 20-a... Loss = 0.075375 \n",
      "Validating set 20-b... Loss = 0.077266 \n",
      "Validating set 21-a... Loss = 0.082452 \n",
      "Validating set 21-b... Loss = 0.076946 \n",
      "Validating set 22-a... Loss = 0.078602 \n",
      "Validating set 22-b... Loss = 0.080538 \n",
      "Validating set 23-a... Loss = 0.077607 \n",
      "Validating set 23-b... Loss = 0.077118 \n",
      "Validating set 24-a... Loss = 0.078705 \n",
      "Validating set 24-b... Loss = 0.076103 \n",
      "Validating set 25-a... Loss = 0.077949 \n",
      "Validating set 25-b... Loss = 0.079300 \n",
      "Validating set 26-a... Loss = 0.076988 \n",
      "Validating set 26-b... Loss = 0.080871 \n",
      "Validating set 27-a... Loss = 0.083130 \n",
      "Validating set 27-b... Loss = 0.078603 \n",
      "Validating set 28-a... Loss = 0.077575 \n",
      "Validating set 28-b... Loss = 0.083491 \n",
      "Validating set 29-a... Loss = 0.078386 \n",
      "Validating set 29-b... Loss = 0.077624 \n",
      "Validating set 30-a... Loss = 0.077397 \n",
      "Validating set 30-b... Loss = 0.079600 \n",
      "Validating set 31-a... Loss = 0.079063 \n",
      "Validating set 31-b... Loss = 0.081749 \n",
      "Validating set 32-a... Loss = 0.078600 \n",
      "Validating set 32-b... Loss = 0.078188 \n",
      "Validating set 33-a... Loss = 0.081100 \n",
      "Validating set 33-b... Loss = 0.082994 \n",
      "Validating set 34-a... Loss = 0.079658 \n",
      "Validating set 34-b... Loss = 0.080738 \n",
      "Validating set 35-a... Loss = 0.079397 \n",
      "Validating set 35-b... Loss = 0.076358 \n",
      "Validating set 36-a... Loss = 0.079430 \n",
      "TrainGenerator state saved\n",
      "Model report generated and saved\n",
      "Best model saved to C:\\deeptrain\\examples\\dir\\models\\M3__model-nadam__min.079\n",
      "TrainGenerator state saved\n",
      "Model report generated and saved\n"
     ]
    },
    {
     "data": {
      "image/png": "[encoded data removed]",
      "text/plain": [
       "<Figure size 705.6x277.2 with 1 Axes>"
      ]
     },
     "metadata": {
      "image/png": {
       "height": 243,
       "width": 590
      },
      "needs_background": "light"
     },
     "output_type": "display_data"
    },
    {
     "name": "stdout",
     "output_type": "stream",
     "text": [
      "Training has concluded.\n"
     ]
    }
   ],
   "source": [
    "tg.train()"
   ]
  },
  {
   "cell_type": "markdown",
   "metadata": {},
   "source": [
    "### User batch_size=256, file batch_size=128"
   ]
  },
  {
   "cell_type": "code",
   "execution_count": 6,
   "metadata": {},
   "outputs": [],
   "source": [
    "C['datagen'    ]['batch_size'] = 256\n",
    "C['val_datagen']['batch_size'] = 256\n",
    "C['model']['batch_shape'] = (256, 28, 28, 1)"
   ]
  },
  {
   "cell_type": "code",
   "execution_count": 7,
   "metadata": {},
   "outputs": [
    {
     "name": "stdout",
     "output_type": "stream",
     "text": [
      "\u001b[31mWARNING:\u001b[0m multiple file extensions found in `path`; only .npy will be used \n",
      "Discovered 48 files with matching format\n",
      "48 set nums inferred; if more are expected, ensure file names contain a common substring w/ a number (e.g. 'train1.npy', 'train2.npy', etc)\n",
      "DataGenerator initiated\n",
      "\n",
      "\u001b[31mWARNING:\u001b[0m multiple file extensions found in `path`; only .npy will be used \n",
      "Discovered 36 files with matching format\n",
      "36 set nums inferred; if more are expected, ensure file names contain a common substring w/ a number (e.g. 'train1.npy', 'train2.npy', etc)\n",
      "DataGenerator initiated\n",
      "\n",
      "\u001b[34mNOTE:\u001b[0m will exclude `labels` from saving when `input_as_labels=True`; to keep 'labels', add '{labels}'to `saveskip_list` instead\n",
      "Preloading superbatch ... \u001b[31mWARNING:\u001b[0m multiple file extensions found in `path`; only .npy will be used \n",
      "Discovered 48 files with matching format\n",
      "................................................ finished, w/ 6144 total samples\n",
      "Train initial data prepared\n",
      "Preloading superbatch ... \u001b[31mWARNING:\u001b[0m multiple file extensions found in `path`; only .npy will be used \n",
      "Discovered 36 files with matching format\n",
      ".................................... finished, w/ 4608 total samples\n",
      "Val initial data prepared\n",
      "Logging ON; directory (new): C:\\deeptrain\\examples\\dir\\logs\\M4__model-nadam__min999.000\n"
     ]
    }
   ],
   "source": [
    "tg = init_session(C, make_autoencoder)"
   ]
  },
  {
   "cell_type": "code",
   "execution_count": 8,
   "metadata": {},
   "outputs": [
    {
     "name": "stdout",
     "output_type": "stream",
     "text": [
      "\n",
      "Fitting set 1+2... Loss = 0.278780 \n",
      "Fitting set 3+4... Loss = 0.271617 \n",
      "Fitting set 5+6... Loss = 0.266600 \n",
      "Fitting set 7+8... Loss = 0.261748 \n",
      "Fitting set 9+10... Loss = 0.257241 \n",
      "Fitting set 11+12... Loss = 0.253015 \n",
      "Fitting set 13+14... Loss = 0.248581 \n",
      "Fitting set 15+16... Loss = 0.244207 \n",
      "Fitting set 17+18... Loss = 0.239981 \n",
      "Fitting set 19+20... Loss = 0.235842 \n",
      "Fitting set 21+22... Loss = 0.231791 \n",
      "Fitting set 23+24... Loss = 0.227870 \n",
      "Fitting set 25+26... Loss = 0.224052 \n",
      "Fitting set 27+28... Loss = 0.220263 \n",
      "Fitting set 29+30... Loss = 0.216646 \n",
      "Fitting set 31+32... Loss = 0.213080 \n",
      "Fitting set 33+34... Loss = 0.209693 \n",
      "Fitting set 35+36... Loss = 0.206401 \n",
      "Fitting set 37+38... Loss = 0.203193 \n",
      "Fitting set 39+40... Loss = 0.200143 \n",
      "Fitting set 41+42... Loss = 0.197141 \n",
      "Fitting set 43+44... Loss = 0.194222 \n",
      "Fitting set 45+46... Loss = 0.191372 \n",
      "Fitting set 47+48... Loss = 0.188653 \n",
      "Data set_nums shuffled\n",
      "\n",
      "\n",
      "_____________________\n",
      "\u001b[4m EPOCH 1 -- COMPLETE \u001b[0m\n",
      "\n",
      "\n",
      "\n",
      "Validating...\n",
      "Validating set 1+2... Loss = 0.208901 \n",
      "Validating set 3+4... Loss = 0.208795 \n",
      "Validating set 5+6... Loss = 0.208823 \n",
      "Validating set 7+8... Loss = 0.208704 \n",
      "Validating set 9+10... Loss = 0.208591 \n",
      "Validating set 11+12... Loss = 0.208970 \n",
      "Validating set 13+14... Loss = 0.208594 \n",
      "Validating set 15+16... Loss = 0.208772 \n",
      "Validating set 17+18... Loss = 0.209147 \n",
      "Validating set 19+20... Loss = 0.208776 \n",
      "Validating set 21+22... Loss = 0.208982 \n",
      "Validating set 23+24... Loss = 0.208814 \n",
      "Validating set 25+26... Loss = 0.208499 \n",
      "Validating set 27+28... Loss = 0.208881 \n",
      "Validating set 29+30... Loss = 0.208739 \n",
      "Validating set 31+32... Loss = 0.208822 \n",
      "Validating set 33+34... Loss = 0.208793 \n",
      "Validating set 35+36... Loss = 0.208779 \n",
      "TrainGenerator state saved\n",
      "Model report generated and saved\n",
      "Best model saved to C:\\deeptrain\\examples\\dir\\models\\M4__model-nadam__min.209\n",
      "TrainGenerator state saved\n",
      "Model report generated and saved\n"
     ]
    },
    {
     "data": {
      "image/png": "[encoded data removed]",
      "text/plain": [
       "<Figure size 705.6x277.2 with 1 Axes>"
      ]
     },
     "metadata": {
      "image/png": {
       "height": 243,
       "width": 590
      },
      "needs_background": "light"
     },
     "output_type": "display_data"
    },
    {
     "name": "stdout",
     "output_type": "stream",
     "text": [
      "Training has concluded.\n"
     ]
    }
   ],
   "source": [
    "tg.train()"
   ]
  },
  {
   "cell_type": "markdown",
   "metadata": {},
   "source": [
    "We can see the difference in the two settings through sets logging:\n",
    "\n",
    "  - `batch_size=64`: a `set_num` is split into `'a'` and `'b'`\n",
    "  - `batch_size=256`: `set_num1 + set_num2`, combining two files"
   ]
  },
  {
   "cell_type": "markdown",
   "metadata": {},
   "source": [
    "### Faster SSD Loading\n",
    "\n",
    " - Save larger `batch_size` on disk (e.g. 512) than is used (e.g. 32). \n",
    " - Larger files much better utilize an SSD's read speed via parallelism.\n",
    " - `batch_size` on file can be as large as RAM permits."
   ]
  }
 ],
 "metadata": {
  "kernelspec": {
   "display_name": "Python 3",
   "language": "python",
   "name": "python3"
  },
  "language_info": {
   "codemirror_mode": {
    "name": "ipython",
    "version": 3
   },
   "file_extension": ".py",
   "mimetype": "text/x-python",
   "name": "python",
   "nbconvert_exporter": "python",
   "pygments_lexer": "ipython3",
   "version": "3.7.7"
  }
 },
 "nbformat": 4,
 "nbformat_minor": 4
}
