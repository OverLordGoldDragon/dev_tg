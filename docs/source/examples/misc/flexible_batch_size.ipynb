{
 "cells": [
  {
   "cell_type": "markdown",
   "metadata": {},
   "source": [
    "# Flexible batch_size & Faster SSD Loading\n",
    "\n",
    "This example assumes you've read `advanced.ipynb`, and covers:\n",
    "\n",
    "  - How batch_size can be a multiple of batch_size on file\n",
    "  - Faster SSD loading via flexible batch size"
   ]
  },
  {
   "cell_type": "code",
   "execution_count": 1,
   "metadata": {},
   "outputs": [],
   "source": [
    "import deeptrain\n",
    "deeptrain.util.misc.append_examples_dir_to_sys_path()\n",
    "\n",
    "from utils import make_autoencoder, init_session, AE_CONFIGS as C"
   ]
  },
  {
   "cell_type": "code",
   "execution_count": 2,
   "metadata": {},
   "outputs": [],
   "source": [
    "%config InlineBackend.figure_format = 'retina'  # greatly improve display quality"
   ]
  },
  {
   "cell_type": "markdown",
   "metadata": {},
   "source": [
    "DeepTrain can use `batch_size` an integral multiple of one on file, by splitting up into smaller batches or combining \n",
    "into larger. \n",
    "\n",
    "If a file stores 128 samples, we can split it to x2 64-sample batches, or combine two files into\n",
    "x1 256-sample batch."
   ]
  },
  {
   "cell_type": "code",
   "execution_count": 3,
   "metadata": {},
   "outputs": [],
   "source": [
    "C['traingen']['epochs'] = 1"
   ]
  },
  {
   "cell_type": "markdown",
   "metadata": {},
   "source": [
    "### User batch_size=64, file batch_size=128"
   ]
  },
  {
   "cell_type": "code",
   "execution_count": 4,
   "metadata": {},
   "outputs": [],
   "source": [
    "C['datagen'    ]['batch_size'] = 64\n",
    "C['val_datagen']['batch_size'] = 64\n",
    "C['model']['batch_shape'] = (64, 28, 28, 1)"
   ]
  },
  {
   "cell_type": "code",
   "execution_count": 5,
   "metadata": {},
   "outputs": [
    {
     "name": "stdout",
     "output_type": "stream",
     "text": [
      "\u001b[31mWARNING:\u001b[0m multiple file extensions found in `path`; only .npy will be used \n",
      "Discovered 48 files with matching format\n",
      "48 set nums inferred; if more are expected, ensure file names contain a common substring w/ a number (e.g. 'train1.npy', 'train2.npy', etc)\n",
      "DataGenerator initiated\n",
      "\n",
      "\u001b[31mWARNING:\u001b[0m multiple file extensions found in `path`; only .npy will be used \n",
      "Discovered 36 files with matching format\n",
      "36 set nums inferred; if more are expected, ensure file names contain a common substring w/ a number (e.g. 'train1.npy', 'train2.npy', etc)\n",
      "DataGenerator initiated\n",
      "\n",
      "\u001b[34mNOTE:\u001b[0m will exclude `labels` from saving when `input_as_labels=True`; to keep 'labels', add '{labels}'to `saveskip_list` instead\n",
      "Preloading superbatch ... \u001b[31mWARNING:\u001b[0m multiple file extensions found in `path`; only .npy will be used \n",
      "Discovered 48 files with matching format\n",
      "................................................ finished, w/ 6144 total samples\n",
      "Train initial data prepared\n",
      "Preloading superbatch ... \u001b[31mWARNING:\u001b[0m multiple file extensions found in `path`; only .npy will be used \n",
      "Discovered 36 files with matching format\n",
      ".................................... finished, w/ 4608 total samples\n",
      "Val initial data prepared\n",
      "Logging ON; directory (new): C:\\Users\\OverL\\Desktop\\School\\Deep Learning\\DL_Code\\dev_tg\\examples\\dir\\outputs\\logs\\M15__model-nadam__min999.000\n"
     ]
    }
   ],
   "source": [
    "tg = init_session(C, make_autoencoder)"
   ]
  },
  {
   "cell_type": "code",
   "execution_count": 6,
   "metadata": {},
   "outputs": [
    {
     "name": "stdout",
     "output_type": "stream",
     "text": [
      "\n",
      "Fitting set 1-a... Loss = 0.324289 \n",
      "Fitting set 1-b... Loss = 0.318535 \n",
      "Fitting set 2-a... Loss = 0.312938 \n",
      "Fitting set 2-b... Loss = 0.308814 \n",
      "Fitting set 3-a... Loss = 0.305074 \n",
      "Fitting set 3-b... Loss = 0.301463 \n",
      "Fitting set 4-a... Loss = 0.298007 \n",
      "Fitting set 4-b... Loss = 0.294440 \n",
      "Fitting set 5-a... Loss = 0.290893 \n",
      "Fitting set 5-b... Loss = 0.287475 \n",
      "Fitting set 6-a... Loss = 0.284070 \n",
      "Fitting set 6-b... Loss = 0.280488 \n",
      "Fitting set 7-a... Loss = 0.276782 \n",
      "Fitting set 7-b... Loss = 0.273143 \n",
      "Fitting set 8-a... Loss = 0.269380 \n",
      "Fitting set 8-b... Loss = 0.265857 \n",
      "Fitting set 9-a... Loss = 0.262398 \n",
      "Fitting set 9-b... Loss = 0.258981 \n",
      "Fitting set 10-a... Loss = 0.255540 \n",
      "Fitting set 10-b... Loss = 0.252130 \n",
      "Fitting set 11-a... Loss = 0.248852 \n",
      "Fitting set 11-b... Loss = 0.245501 \n",
      "Fitting set 12-a... Loss = 0.242162 \n",
      "Fitting set 12-b... Loss = 0.238978 \n",
      "Fitting set 13-a... Loss = 0.235816 \n",
      "Fitting set 13-b... Loss = 0.232706 \n",
      "Fitting set 14-a... Loss = 0.229668 \n",
      "Fitting set 14-b... Loss = 0.226648 \n",
      "Fitting set 15-a... Loss = 0.223643 \n",
      "Fitting set 15-b... Loss = 0.220766 \n",
      "Fitting set 16-a... Loss = 0.218019 \n",
      "Fitting set 16-b... Loss = 0.215266 \n",
      "Fitting set 17-a... Loss = 0.212588 \n",
      "Fitting set 17-b... Loss = 0.209919 \n",
      "Fitting set 18-a... Loss = 0.207354 \n",
      "Fitting set 18-b... Loss = 0.204843 \n",
      "Fitting set 19-a... Loss = 0.202388 \n",
      "Fitting set 19-b... Loss = 0.199972 \n",
      "Fitting set 20-a... Loss = 0.197643 \n",
      "Fitting set 20-b... Loss = 0.195383 \n",
      "Fitting set 21-a... Loss = 0.193114 \n",
      "Fitting set 21-b... Loss = 0.190922 \n",
      "Fitting set 22-a... Loss = 0.188777 \n",
      "Fitting set 22-b... Loss = 0.186695 \n",
      "Fitting set 23-a... Loss = 0.184663 \n",
      "Fitting set 23-b... Loss = 0.182666 \n",
      "Fitting set 24-a... Loss = 0.180688 \n",
      "Fitting set 24-b... Loss = 0.178785 \n",
      "Fitting set 25-a... Loss = 0.176909 \n",
      "Fitting set 25-b... Loss = 0.175048 \n",
      "Fitting set 26-a... Loss = 0.173286 \n",
      "Fitting set 26-b... Loss = 0.171530 \n",
      "Fitting set 27-a... Loss = 0.169812 \n",
      "Fitting set 27-b... Loss = 0.168179 \n",
      "Fitting set 28-a... Loss = 0.166557 \n",
      "Fitting set 28-b... Loss = 0.164976 \n",
      "Fitting set 29-a... Loss = 0.163410 \n",
      "Fitting set 29-b... Loss = 0.161849 \n",
      "Fitting set 30-a... Loss = 0.160364 \n",
      "Fitting set 30-b... Loss = 0.158924 \n",
      "Fitting set 31-a... Loss = 0.157502 \n",
      "Fitting set 31-b... Loss = 0.156090 \n",
      "Fitting set 32-a... Loss = 0.154714 \n",
      "Fitting set 32-b... Loss = 0.153360 \n",
      "Fitting set 33-a... Loss = 0.152042 \n",
      "Fitting set 33-b... Loss = 0.150758 \n",
      "Fitting set 34-a... Loss = 0.149515 \n",
      "Fitting set 34-b... Loss = 0.148271 \n",
      "Fitting set 35-a... Loss = 0.147075 \n",
      "Fitting set 35-b... Loss = 0.145908 \n",
      "Fitting set 36-a... Loss = 0.144740 \n",
      "Fitting set 36-b... Loss = 0.143595 \n",
      "Fitting set 37-a... Loss = 0.142496 \n",
      "Fitting set 37-b... Loss = 0.141383 \n",
      "Fitting set 38-a... Loss = 0.140302 \n",
      "Fitting set 38-b... Loss = 0.139269 \n",
      "Fitting set 39-a... Loss = 0.138257 \n",
      "Fitting set 39-b... Loss = 0.137268 \n",
      "Fitting set 40-a... Loss = 0.136286 \n",
      "Fitting set 40-b... Loss = 0.135317 \n",
      "Fitting set 41-a... Loss = 0.134362 \n",
      "Fitting set 41-b... Loss = 0.133446 \n",
      "Fitting set 42-a... Loss = 0.132539 \n",
      "Fitting set 42-b... Loss = 0.131638 \n",
      "Fitting set 43-a... Loss = 0.130766 \n",
      "Fitting set 43-b... Loss = 0.129909 \n",
      "Fitting set 44-a... Loss = 0.129054 \n",
      "Fitting set 44-b... Loss = 0.128216 \n",
      "Fitting set 45-a... Loss = 0.127390 \n",
      "Fitting set 45-b... Loss = 0.126580 \n",
      "Fitting set 46-a... Loss = 0.125771 \n",
      "Fitting set 46-b... Loss = 0.124956 \n",
      "Fitting set 47-a... Loss = 0.124187 \n",
      "Fitting set 47-b... Loss = 0.123415 \n",
      "Fitting set 48-a... Loss = 0.122665 \n",
      "Data set_nums shuffled\n",
      "\n",
      "\n",
      "_____________________\n",
      "\u001b[4m EPOCH 1 -- COMPLETE \u001b[0m\n",
      "\n",
      "\n",
      "\n",
      "Validating...\n",
      "Validating set 1-a... Loss = 0.093509 \n",
      "Validating set 1-b... Loss = 0.091763 \n",
      "Validating set 2-a... Loss = 0.088837 \n",
      "Validating set 2-b... Loss = 0.095022 \n",
      "Validating set 3-a... Loss = 0.096815 \n",
      "Validating set 3-b... Loss = 0.093807 \n",
      "Validating set 4-a... Loss = 0.092017 \n",
      "Validating set 4-b... Loss = 0.096961 \n",
      "Validating set 5-a... Loss = 0.092792 \n",
      "Validating set 5-b... Loss = 0.092887 \n",
      "Validating set 6-a... Loss = 0.093935 \n",
      "Validating set 6-b... Loss = 0.094989 \n",
      "Validating set 7-a... Loss = 0.094250 \n",
      "Validating set 7-b... Loss = 0.091153 \n",
      "Validating set 8-a... Loss = 0.095456 \n",
      "Validating set 8-b... Loss = 0.090706 \n",
      "Validating set 9-a... Loss = 0.089311 \n",
      "Validating set 9-b... Loss = 0.088922 \n",
      "Validating set 10-a... Loss = 0.090923 \n",
      "Validating set 10-b... Loss = 0.093079 \n",
      "Validating set 11-a... Loss = 0.096978 \n",
      "Validating set 11-b... Loss = 0.092865 \n",
      "Validating set 12-a... Loss = 0.094641 \n",
      "Validating set 12-b... Loss = 0.089327 \n",
      "Validating set 13-a... Loss = 0.095629 \n",
      "Validating set 13-b... Loss = 0.099708 \n",
      "Validating set 14-a... Loss = 0.090131 \n",
      "Validating set 14-b... Loss = 0.088240 \n",
      "Validating set 15-a... Loss = 0.098296 \n",
      "Validating set 15-b... Loss = 0.089244 \n",
      "Validating set 16-a... Loss = 0.097216 \n",
      "Validating set 16-b... Loss = 0.097733 \n",
      "Validating set 17-a... Loss = 0.095599 \n",
      "Validating set 17-b... Loss = 0.090100 \n",
      "Validating set 18-a... Loss = 0.089615 \n",
      "Validating set 18-b... Loss = 0.090759 \n",
      "Validating set 19-a... Loss = 0.093424 \n",
      "Validating set 19-b... Loss = 0.098141 \n",
      "Validating set 20-a... Loss = 0.088716 \n",
      "Validating set 20-b... Loss = 0.091533 \n",
      "Validating set 21-a... Loss = 0.098266 \n",
      "Validating set 21-b... Loss = 0.091618 \n",
      "Validating set 22-a... Loss = 0.092688 \n",
      "Validating set 22-b... Loss = 0.095418 \n",
      "Validating set 23-a... Loss = 0.092364 \n",
      "Validating set 23-b... Loss = 0.090836 \n",
      "Validating set 24-a... Loss = 0.092810 \n",
      "Validating set 24-b... Loss = 0.090484 \n",
      "Validating set 25-a... Loss = 0.090961 \n",
      "Validating set 25-b... Loss = 0.096048 \n",
      "Validating set 26-a... Loss = 0.089721 \n",
      "Validating set 26-b... Loss = 0.096625 \n",
      "Validating set 27-a... Loss = 0.099723 \n",
      "Validating set 27-b... Loss = 0.092153 \n",
      "Validating set 28-a... Loss = 0.091020 \n",
      "Validating set 28-b... Loss = 0.100563 \n",
      "Validating set 29-a... Loss = 0.092537 \n",
      "Validating set 29-b... Loss = 0.091784 \n",
      "Validating set 30-a... Loss = 0.092466 \n",
      "Validating set 30-b... Loss = 0.094195 \n",
      "Validating set 31-a... Loss = 0.094463 \n",
      "Validating set 31-b... Loss = 0.098569 \n",
      "Validating set 32-a... Loss = 0.091945 \n",
      "Validating set 32-b... Loss = 0.092445 \n",
      "Validating set 33-a... Loss = 0.096646 \n",
      "Validating set 33-b... Loss = 0.101023 \n",
      "Validating set 34-a... Loss = 0.093885 \n",
      "Validating set 34-b... Loss = 0.095640 \n",
      "Validating set 35-a... Loss = 0.093693 \n",
      "Validating set 35-b... Loss = 0.090153 \n",
      "Validating set 36-a... Loss = 0.093824 \n",
      "TrainGenerator state saved\n",
      "Model report generated and saved\n",
      "Best model saved to C:\\Users\\OverL\\Desktop\\School\\Deep Learning\\DL_Code\\dev_tg\\examples\\dir\\outputs\\models\\M15__model-nadam__min.094\n",
      "TrainGenerator state saved\n",
      "Model report generated and saved\n"
     ]
    },
    {
     "data": {
      "image/png": "[encoded data removed]",
      "text/plain": [
       "<Figure size 705.6x277.2 with 1 Axes>"
      ]
     },
     "metadata": {
      "image/png": {
       "height": 243,
       "width": 590
      },
      "needs_background": "light"
     },
     "output_type": "display_data"
    },
    {
     "name": "stdout",
     "output_type": "stream",
     "text": [
      "Training has concluded.\n"
     ]
    }
   ],
   "source": [
    "tg.train()"
   ]
  },
  {
   "cell_type": "markdown",
   "metadata": {},
   "source": [
    "### User batch_size=256, file batch_size=128"
   ]
  },
  {
   "cell_type": "code",
   "execution_count": 7,
   "metadata": {},
   "outputs": [],
   "source": [
    "C['datagen'    ]['batch_size'] = 256\n",
    "C['val_datagen']['batch_size'] = 256\n",
    "C['model']['batch_shape'] = (256, 28, 28, 1)"
   ]
  },
  {
   "cell_type": "code",
   "execution_count": 8,
   "metadata": {},
   "outputs": [
    {
     "name": "stdout",
     "output_type": "stream",
     "text": [
      "\u001b[31mWARNING:\u001b[0m multiple file extensions found in `path`; only .npy will be used \n",
      "Discovered 48 files with matching format\n",
      "48 set nums inferred; if more are expected, ensure file names contain a common substring w/ a number (e.g. 'train1.npy', 'train2.npy', etc)\n",
      "DataGenerator initiated\n",
      "\n",
      "\u001b[31mWARNING:\u001b[0m multiple file extensions found in `path`; only .npy will be used \n",
      "Discovered 36 files with matching format\n",
      "36 set nums inferred; if more are expected, ensure file names contain a common substring w/ a number (e.g. 'train1.npy', 'train2.npy', etc)\n",
      "DataGenerator initiated\n",
      "\n",
      "\u001b[34mNOTE:\u001b[0m will exclude `labels` from saving when `input_as_labels=True`; to keep 'labels', add '{labels}'to `saveskip_list` instead\n",
      "Preloading superbatch ... \u001b[31mWARNING:\u001b[0m multiple file extensions found in `path`; only .npy will be used \n",
      "Discovered 48 files with matching format\n",
      "................................................ finished, w/ 6144 total samples\n",
      "Train initial data prepared\n",
      "Preloading superbatch ... \u001b[31mWARNING:\u001b[0m multiple file extensions found in `path`; only .npy will be used \n",
      "Discovered 36 files with matching format\n",
      ".................................... finished, w/ 4608 total samples\n",
      "Val initial data prepared\n",
      "Logging ON; directory (new): C:\\Users\\OverL\\Desktop\\School\\Deep Learning\\DL_Code\\dev_tg\\examples\\dir\\outputs\\logs\\M16__model-nadam__min999.000\n"
     ]
    }
   ],
   "source": [
    "tg = init_session(C, make_autoencoder)"
   ]
  },
  {
   "cell_type": "code",
   "execution_count": 9,
   "metadata": {},
   "outputs": [
    {
     "name": "stdout",
     "output_type": "stream",
     "text": [
      "\n",
      "Fitting set 1+2... Loss = 0.227430 \n",
      "Fitting set 3+4... Loss = 0.223044 \n",
      "Fitting set 5+6... Loss = 0.219097 \n",
      "Fitting set 7+8... Loss = 0.215521 \n",
      "Fitting set 9+10... Loss = 0.212137 \n",
      "Fitting set 11+12... Loss = 0.209203 \n",
      "Fitting set 13+14... Loss = 0.206201 \n",
      "Fitting set 15+16... Loss = 0.203037 \n",
      "Fitting set 17+18... Loss = 0.199963 \n",
      "Fitting set 19+20... Loss = 0.196950 \n",
      "Fitting set 21+22... Loss = 0.193953 \n",
      "Fitting set 23+24... Loss = 0.190855 \n",
      "Fitting set 25+26... Loss = 0.187864 \n",
      "Fitting set 27+28... Loss = 0.184951 \n",
      "Fitting set 29+30... Loss = 0.182049 \n",
      "Fitting set 31+32... Loss = 0.179196 \n",
      "Fitting set 33+34... Loss = 0.176440 \n",
      "Fitting set 35+36... Loss = 0.173741 \n",
      "Fitting set 37+38... Loss = 0.171157 \n",
      "Fitting set 39+40... Loss = 0.168680 \n",
      "Fitting set 41+42... Loss = 0.166255 \n",
      "Fitting set 43+44... Loss = 0.163880 \n",
      "Fitting set 45+46... Loss = 0.161516 \n",
      "Fitting set 47+48... Loss = 0.159251 \n",
      "Data set_nums shuffled\n",
      "\n",
      "\n",
      "_____________________\n",
      "\u001b[4m EPOCH 1 -- COMPLETE \u001b[0m\n",
      "\n",
      "\n",
      "\n",
      "Validating...\n",
      "Validating set 1+2... Loss = 0.189737 \n",
      "Validating set 3+4... Loss = 0.189858 \n",
      "Validating set 5+6... Loss = 0.189643 \n",
      "Validating set 7+8... Loss = 0.189450 \n",
      "Validating set 9+10... Loss = 0.189110 \n",
      "Validating set 11+12... Loss = 0.189887 \n",
      "Validating set 13+14... Loss = 0.189505 \n",
      "Validating set 15+16... Loss = 0.189928 \n",
      "Validating set 17+18... Loss = 0.189867 \n",
      "Validating set 19+20... Loss = 0.189798 \n",
      "Validating set 21+22... Loss = 0.189935 \n",
      "Validating set 23+24... Loss = 0.189521 \n",
      "Validating set 25+26... Loss = 0.189522 \n",
      "Validating set 27+28... Loss = 0.190106 \n",
      "Validating set 29+30... Loss = 0.189554 \n",
      "Validating set 31+32... Loss = 0.189853 \n",
      "Validating set 33+34... Loss = 0.190205 \n",
      "Validating set 35+36... Loss = 0.189710 \n",
      "TrainGenerator state saved\n",
      "Model report generated and saved\n",
      "Best model saved to C:\\Users\\OverL\\Desktop\\School\\Deep Learning\\DL_Code\\dev_tg\\examples\\dir\\outputs\\models\\M16__model-nadam__min.190\n",
      "TrainGenerator state saved\n",
      "Model report generated and saved\n"
     ]
    },
    {
     "data": {
      "image/png": "[encoded data removed]",
      "text/plain": [
       "<Figure size 705.6x277.2 with 1 Axes>"
      ]
     },
     "metadata": {
      "image/png": {
       "height": 243,
       "width": 590
      },
      "needs_background": "light"
     },
     "output_type": "display_data"
    },
    {
     "name": "stdout",
     "output_type": "stream",
     "text": [
      "Training has concluded.\n"
     ]
    }
   ],
   "source": [
    "tg.train()"
   ]
  },
  {
   "cell_type": "markdown",
   "metadata": {},
   "source": [
    "We can see the difference in the two settings through sets logging:\n",
    "\n",
    "  - `batch_size=64`: a `set_num` is split into `'a'` and `'b'`\n",
    "  - `batch_size=256`: `set_num1 + set_num2`, combining two files"
   ]
  },
  {
   "cell_type": "markdown",
   "metadata": {},
   "source": [
    "### Faster SSD Loading\n",
    "\n",
    " - Save larger `batch_size` on disk (e.g. 512) than is used (e.g. 32). \n",
    " - Larger files much better utilize an SSD's read speed via parallelism.\n",
    " - `batch_size` on file can be as large as RAM permits."
   ]
  }
 ],
 "metadata": {
  "kernelspec": {
   "display_name": "Python 3",
   "language": "python",
   "name": "python3"
  },
  "language_info": {
   "codemirror_mode": {
    "name": "ipython",
    "version": 3
   },
   "file_extension": ".py",
   "mimetype": "text/x-python",
   "name": "python",
   "nbconvert_exporter": "python",
   "pygments_lexer": "ipython3",
   "version": "3.7.7"
  }
 },
 "nbformat": 4,
 "nbformat_minor": 4
}
