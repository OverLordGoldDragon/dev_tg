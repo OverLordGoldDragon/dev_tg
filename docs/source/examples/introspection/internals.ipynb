{
 "cells": [
  {
   "cell_type": "markdown",
   "metadata": {},
   "source": [
    "# Inspecting internals\n",
    "This example assumes you've read `advanced.ipynb`, and covers:\n",
    "\n",
    "   - Inspecting useful internal `TrainGenerator` & `DataGenerator` attributes\n",
    "   - Inspecting train / validation interruptions"
   ]
  },
  {
   "cell_type": "code",
   "execution_count": 2,
   "metadata": {},
   "outputs": [],
   "source": [
    "import deeptrain\n",
    "deeptrain.append_examples_dir_to_sys_path()  # for `from utils import`\n",
    "\n",
    "from utils import make_autoencoder, init_session\n",
    "from utils import AE_CONFIGS as C"
   ]
  },
  {
   "cell_type": "markdown",
   "metadata": {},
   "source": [
    "### Configure & train"
   ]
  },
  {
   "cell_type": "code",
   "execution_count": 3,
   "metadata": {},
   "outputs": [
    {
     "name": "stdout",
     "output_type": "stream",
     "text": [
      "\u001b[31mWARNING:\u001b[0m multiple file extensions found in `path`; only .npy will be used \n",
      "Discovered 50 files with matching format\n",
      "50 set nums inferred; if more are expected, ensure file names contain a common substring w/ a number (e.g. 'train1.npy', 'train2.npy', etc)\n",
      "DataGenerator initiated\n",
      "\u001b[31mWARNING:\u001b[0m multiple file extensions found in `path`; only .npy will be used \n",
      "Discovered 36 files with matching format\n",
      "36 set nums inferred; if more are expected, ensure file names contain a common substring w/ a number (e.g. 'train1.npy', 'train2.npy', etc)\n",
      "DataGenerator initiated\n",
      "\u001b[34mNOTE:\u001b[0m will exclude `labels` from saving when `input_as_labels=True`; to keep 'labels', add '{labels}'to `saveskip_list` instead\n",
      "Preloading superbatch ... \u001b[31mWARNING:\u001b[0m multiple file extensions found in `path`; only .npy will be used \n",
      "Discovered 50 files with matching format\n",
      ".................................................. finished, w/ 6400 total samples\n",
      "Train initial data prepared\n",
      "Preloading superbatch ... \u001b[31mWARNING:\u001b[0m multiple file extensions found in `path`; only .npy will be used \n",
      "Discovered 36 files with matching format\n",
      ".................................... finished, w/ 4608 total samples\n",
      "Val initial data prepared\n",
      "Logging ON; directory (new): C:\\Users\\OverL\\Desktop\\School\\Deep Learning\\DL_Code\\dev_tg\\examples\\dir\\outputs\\logs\\M43__model-nadam__min999.000\n",
      "\n",
      "Data set_nums shuffled\n",
      "\n",
      "\n",
      "_____________________\n",
      "\u001b[4m EPOCH 1 -- COMPLETE \u001b[0m\n",
      "\n",
      "\n",
      "\n",
      "Validating...\n",
      "TrainGenerator state saved\n",
      "Model report generated and saved\n",
      "Best model saved to C:\\Users\\OverL\\Desktop\\School\\Deep Learning\\DL_Code\\dev_tg\\examples\\dir\\outputs\\models\\M43__model-nadam__min.142\n",
      "TrainGenerator state saved\n",
      "Model report generated and saved\n"
     ]
    },
    {
     "data": {
      "image/png": "[encoded data removed]",
      "text/plain": [
       "<Figure size 806.4x316.8 with 1 Axes>"
      ]
     },
     "metadata": {
      "needs_background": "light"
     },
     "output_type": "display_data"
    },
    {
     "name": "stdout",
     "output_type": "stream",
     "text": [
      "Training has concluded.\n"
     ]
    }
   ],
   "source": [
    "C['traingen']['epochs'] = 1  # don't need more\n",
    "C['traingen']['iter_verbosity'] = 0  # don't need progress printing here\n",
    "tg = init_session(C, make_autoencoder)\n",
    "dg = tg.datagen\n",
    "vdg = tg.val_datagen\n",
    "\n",
    "tg.train()"
   ]
  },
  {
   "cell_type": "markdown",
   "metadata": {},
   "source": [
    "### Arguments passed to TrainGenerator\n",
    "Some objects are stored as string to allow pickling"
   ]
  },
  {
   "cell_type": "code",
   "execution_count": 6,
   "metadata": {},
   "outputs": [
    {
     "name": "stdout",
     "output_type": "stream",
     "text": [
      "{'best_models_dir': 'C:\\\\Users\\\\OverL\\\\Desktop\\\\School\\\\Deep '\n",
      "                    'Learning\\\\DL_Code\\\\dev_tg\\\\examples\\\\dir\\\\outputs\\\\models',\n",
      " 'datagen': 'DataGenerator',\n",
      " 'epochs': 1,\n",
      " 'eval_fn': 'predict',\n",
      " 'input_as_labels': True,\n",
      " 'iter_verbosity': 0,\n",
      " 'logs_dir': 'C:\\\\Users\\\\OverL\\\\Desktop\\\\School\\\\Deep '\n",
      "             'Learning\\\\DL_Code\\\\dev_tg\\\\examples\\\\dir\\\\outputs\\\\logs',\n",
      " 'max_is_best': False,\n",
      " 'model': 'Model',\n",
      " 'model_configs': {'activation': ['relu', 'relu', 'relu', 'relu', 'relu'],\n",
      "                   'batch_shape': (128, 28, 28, 1),\n",
      "                   'filters': [6, 12, 2, 6, 12],\n",
      "                   'input_dropout': 0.5,\n",
      "                   'kernel_size': [(3, 3), (3, 3), (3, 3), (3, 3), (3, 3)],\n",
      "                   'loss': 'mse',\n",
      "                   'metrics': None,\n",
      "                   'optimizer': 'nadam',\n",
      "                   'preout_dropout': 0.4,\n",
      "                   'strides': [(2, 2), (2, 2), 1, 1, 1],\n",
      "                   'up_sampling_2d': [None, None, None, (2, 2), (2, 2)]},\n",
      " 'val_datagen': 'DataGenerator'}\n"
     ]
    }
   ],
   "source": [
    "from pprint import pprint\n",
    "pprint(tg._passed_args)"
   ]
  },
  {
   "cell_type": "markdown",
   "metadata": {},
   "source": [
    "### Methods & attributes (general)\n",
    "Can be inspected with `vars` & `dir`"
   ]
  },
  {
   "cell_type": "code",
   "execution_count": 7,
   "metadata": {},
   "outputs": [],
   "source": [
    "def show_attributes(obj):\n",
    "    _ = [print(a) for a in vars(obj)]\n",
    "\n",
    "def show_methods(obj):  # not foolproof, may include non-methods\n",
    "    _ = [print(a) for a in dir(obj)\n",
    "         if (a not in vars(obj)  # `vars` subsets `dir` and has no methods\n",
    "             and \"__%s__\" % a.strip('__') != a)]  # exclude magic methods"
   ]
  },
  {
   "cell_type": "code",
   "execution_count": 8,
   "metadata": {},
   "outputs": [
    {
     "name": "stdout",
     "output_type": "stream",
     "text": [
      "model\n",
      "datagen\n",
      "val_datagen\n",
      "epochs\n",
      "logs_dir\n",
      "best_models_dir\n",
      "loadpath\n",
      "callbacks\n",
      "key_metric\n",
      "key_metric_fn\n",
      "train_metrics\n",
      "val_metrics\n",
      "custom_metrics\n",
      "input_as_labels\n",
      "max_is_best\n",
      "val_freq\n",
      "plot_history_freq\n",
      "unique_checkpoint_freq\n",
      "temp_checkpoint_freq\n",
      "class_weights\n",
      "val_class_weights\n",
      "reset_statefuls\n",
      "iter_verbosity\n",
      "logdir\n",
      "optimizer_save_configs\n",
      "optimizer_load_configs\n",
      "plot_configs\n",
      "model_configs\n",
      "batch_size\n",
      "_fit_fn\n",
      "_fit_fn_name\n",
      "_fit_fn_args\n",
      "_eval_fn\n",
      "_eval_fn_name\n",
      "_eval_fn_args\n",
      "_passed_args\n",
      "dynamic_predict_threshold_min_max\n",
      "checkpoints_overwrite_duplicates\n",
      "loss_weighted_slices_range\n",
      "pred_weighted_slices_range\n",
      "logs_use_full_model_name\n",
      "new_model_num\n",
      "dynamic_predict_threshold\n",
      "plot_first_pane_max_vals\n",
      "_val_max_set_name_chars\n",
      "_max_set_name_chars\n",
      "predict_threshold\n",
      "best_subset_size\n",
      "check_model_health\n",
      "max_one_best_save\n",
      "max_checkpoints\n",
      "report_fontpath\n",
      "model_base_name\n",
      "final_fig_dir\n",
      "loadskip_list\n",
      "saveskip_list\n",
      "model_save_kw\n",
      "model_save_weights_kw\n",
      "metric_to_alias\n",
      "alias_to_metric\n",
      "report_configs\n",
      "model_name_configs\n",
      "name_process_key_fn\n",
      "metric_printskip_configs\n",
      "best_key_metric\n",
      "_epoch\n",
      "_val_epoch\n",
      "_set_name\n",
      "_val_set_name\n",
      "model_num\n",
      "model_name\n",
      "_imports\n",
      "_history_fig\n",
      "_times_validated\n",
      "_batches_fit\n",
      "_batches_validated\n",
      "_fit_iters\n",
      "_val_iters\n",
      "_train_loop_done\n",
      "_val_loop_done\n",
      "_train_postiter_processed\n",
      "_val_postiter_processed\n",
      "_train_new_batch_notified\n",
      "_val_new_batch_notified\n",
      "_inferred_batch_size\n",
      "_save_from_on_val_end\n",
      "key_metric_history\n",
      "best_subset_nums\n",
      "_labels\n",
      "_preds_cache\n",
      "_labels_cache\n",
      "_sw_cache\n",
      "_class_labels_cache\n",
      "_set_name_cache\n",
      "_val_set_name_cache\n",
      "_hist_vlines\n",
      "_val_hist_vlines\n",
      "_train_x_ticks\n",
      "_train_val_x_ticks\n",
      "_val_x_ticks\n",
      "_val_train_x_ticks\n",
      "history\n",
      "temp_history\n",
      "val_history\n",
      "val_temp_history\n",
      "_temp_history_empty\n",
      "_val_temp_history_empty\n",
      "_init_callbacks_called\n",
      "_set_num\n",
      "_val_set_num\n",
      "_metrics_cached\n",
      "_cb_alias\n",
      "_y_true\n",
      "_val_sw\n",
      "_y_preds\n"
     ]
    }
   ],
   "source": [
    "show_attributes(tg)"
   ]
  },
  {
   "cell_type": "code",
   "execution_count": 9,
   "metadata": {},
   "outputs": [
    {
     "name": "stdout",
     "output_type": "stream",
     "text": [
      "_alias_to_metric_name\n",
      "_apply_callbacks\n",
      "_attr_fn_setter\n",
      "_compute_metric\n",
      "_compute_metrics\n",
      "_gather_over_dataset\n",
      "_get_best_subset_val_history\n",
      "_get_optimizer_state\n",
      "_get_train_history\n",
      "_get_val_history\n",
      "_get_weighted_sample_weight\n",
      "_init_and_validate_kwargs\n",
      "_init_callbacks\n",
      "_init_class_vars\n",
      "_init_logger\n",
      "_load_optimizer_state\n",
      "_make_model_save_fns\n",
      "_make_plot_configs_from_metrics\n",
      "_metric_name_to_alias\n",
      "_on_val_end\n",
      "_prepare_initial_data\n",
      "_print_iter_progress\n",
      "_print_progress\n",
      "_print_train_progress\n",
      "_print_val_progress\n",
      "_save_best_model\n",
      "_save_history_fig\n",
      "_set_predict_threshold\n",
      "_should_do\n",
      "_train_postiter_processing\n",
      "_transform_eval_data\n",
      "_update_temp_history\n",
      "_update_train_history\n",
      "_update_val_history\n",
      "_update_val_iter_cache\n",
      "_val_postiter_processing\n",
      "_validate_class_data_shapes\n",
      "_validate_data_shapes\n",
      "_validate_traingen_configs\n",
      "_weighted_normalize_preds\n",
      "check_health\n",
      "checkpoint\n",
      "clear_cache\n",
      "compute_gradient_norm\n",
      "destroy\n",
      "epoch\n",
      "eval_fn\n",
      "fit_fn\n",
      "generate_report\n",
      "get_data\n",
      "get_history_fig\n",
      "get_last_log\n",
      "get_sample_weight\n",
      "get_unique_model_name\n",
      "gradient_norm_over_dataset\n",
      "gradient_sum_over_dataset\n",
      "info\n",
      "interrupt_status\n",
      "load\n",
      "plot_history\n",
      "reset_validation\n",
      "save\n",
      "save_report\n",
      "train\n",
      "val_epoch\n",
      "validate\n"
     ]
    }
   ],
   "source": [
    "show_methods(tg)"
   ]
  },
  {
   "cell_type": "code",
   "execution_count": 10,
   "metadata": {},
   "outputs": [
    {
     "name": "stdout",
     "output_type": "stream",
     "text": [
      "data_path\n",
      "batch_size\n",
      "labels_path\n",
      "preprocessor\n",
      "preprocessor_configs\n",
      "preload_labels\n",
      "shuffle\n",
      "superbatch_path\n",
      "shuffle_group_batches\n",
      "shuffle_group_samples\n",
      "data_batch_shape\n",
      "labels_batch_shape\n",
      "data_dtype\n",
      "labels_dtype\n",
      "loadskip_list\n",
      "saveskip_list\n",
      "data_loader\n",
      "labels_loader\n",
      "set_nums_original\n",
      "set_nums_to_process\n",
      "superbatch_set_nums\n",
      "all_data_exhausted\n",
      "epoch\n",
      "set_num\n",
      "set_name\n",
      "_set_names\n",
      "start_increment\n",
      "_path_attrs\n",
      "_superbatch_base_name\n",
      "_superbatch_ext\n",
      "_superbatch_filepaths\n",
      "batch\n",
      "superbatch\n",
      "labels\n",
      "all_labels\n",
      "_group_batch\n",
      "_group_labels\n"
     ]
    }
   ],
   "source": [
    "show_attributes(dg)"
   ]
  },
  {
   "cell_type": "code",
   "execution_count": 11,
   "metadata": {},
   "outputs": [
    {
     "name": "stdout",
     "output_type": "stream",
     "text": [
      "_BUILTINS\n",
      "_batch_from_group_batch\n",
      "_get_next_batch\n",
      "_get_next_labels\n",
      "_infer_and_set_info\n",
      "_infer_info\n",
      "_init_and_validate_kwargs\n",
      "_init_class_vars\n",
      "_labels_from_group_labels\n",
      "_make_group_batch_and_labels\n",
      "_set_preprocessor\n",
      "_set_set_nums\n",
      "_update_group_batch_state\n",
      "_validate_batch\n",
      "advance_batch\n",
      "batch_exhausted\n",
      "batch_loaded\n",
      "get\n",
      "load_data\n",
      "load_labels\n",
      "on_epoch_end\n",
      "preload_all_labels\n",
      "preload_superbatch\n",
      "reset_state\n",
      "slice_idx\n",
      "slices_per_batch\n",
      "update_state\n"
     ]
    }
   ],
   "source": [
    "show_methods(dg)"
   ]
  },
  {
   "cell_type": "markdown",
   "metadata": {},
   "source": [
    "### Save directories"
   ]
  },
  {
   "cell_type": "code",
   "execution_count": 12,
   "metadata": {},
   "outputs": [
    {
     "name": "stdout",
     "output_type": "stream",
     "text": [
      "Best model directory: C:\\Users\\OverL\\Desktop\\School\\Deep Learning\\DL_Code\\dev_tg\\examples\\dir\\outputs\\models\n",
      "Checkpoint directory: C:\\Users\\OverL\\Desktop\\School\\Deep Learning\\DL_Code\\dev_tg\\examples\\dir\\outputs\\logs\\M43__model-nadam__min999.000\n",
      "Model full name: M43__model-nadam__min.142\n"
     ]
    }
   ],
   "source": [
    "print(\"Best model directory:\", tg.best_models_dir)\n",
    "print(\"Checkpoint directory:\", tg.logdir)\n",
    "print(\"Model full name:\", tg.model_name)"
   ]
  },
  {
   "cell_type": "markdown",
   "metadata": {},
   "source": [
    "### Interrupts\n",
    "Interrupts can be inspected by checking pertinent attributes manually<br>\n",
    "`(_train_loop_done, _train_postiter_processed, _val_loop_done, _val_postiter_processed)`,<br>\n",
    "or calling `interrupt_status()` which checks these and prints an appropriate message."
   ]
  },
  {
   "cell_type": "code",
   "execution_count": 13,
   "metadata": {},
   "outputs": [
    {
     "name": "stdout",
     "output_type": "stream",
     "text": [
      "No interrupts detected.\n",
      "\n",
      "Flags checked:\n",
      "\t_train_loop_done          = False\n",
      "\t_train_postiter_processed = True\n",
      "\t_val_loop_done            = False\n",
      "\t_val_postiter_processed   = True\n"
     ]
    },
    {
     "data": {
      "text/plain": [
       "(False, False)"
      ]
     },
     "execution_count": 13,
     "metadata": {},
     "output_type": "execute_result"
    }
   ],
   "source": [
    "tg.interrupt_status()"
   ]
  },
  {
   "cell_type": "markdown",
   "metadata": {},
   "source": [
    "Interrupts can be manual (`KeyboardInterrupt`) or due to a `raise Exception`; either interrupts the flow of train/validation, so knowing at which point the fault occurred allows us to correct manually (e.g. execute portion of\n",
    "code after an exception)"
   ]
  },
  {
   "cell_type": "markdown",
   "metadata": {},
   "source": [
    "### Interrupt example"
   ]
  },
  {
   "cell_type": "code",
   "execution_count": 14,
   "metadata": {},
   "outputs": [],
   "source": [
    "tg._train_loop_done = True\n",
    "tg._val_loop_done = True\n",
    "tg._val_postiter_processed = True"
   ]
  },
  {
   "cell_type": "markdown",
   "metadata": {},
   "source": [
    "At this point `_on_val_end()` is called automatically, so if you're able to access such a state, it means the call didn't finish or was never initiated."
   ]
  },
  {
   "cell_type": "code",
   "execution_count": 15,
   "metadata": {},
   "outputs": [
    {
     "name": "stdout",
     "output_type": "stream",
     "text": [
      "Incomplete or not called `_on_val_end()` within `validate()`.\n",
      "Interrupted: train[no], validation[yes].\n",
      "\n",
      "Flags checked:\n",
      "\t_train_loop_done          = True\n",
      "\t_train_postiter_processed = True\n",
      "\t_val_loop_done            = True\n",
      "\t_val_postiter_processed   = True\n"
     ]
    },
    {
     "data": {
      "text/plain": [
       "(False, True)"
      ]
     },
     "execution_count": 15,
     "metadata": {},
     "output_type": "execute_result"
    }
   ],
   "source": [
    "tg.interrupt_status()"
   ]
  },
  {
   "cell_type": "markdown",
   "metadata": {},
   "source": [
    "### Example 2"
   ]
  },
  {
   "cell_type": "code",
   "execution_count": 16,
   "metadata": {},
   "outputs": [
    {
     "name": "stdout",
     "output_type": "stream",
     "text": [
      "Interrupted during validation loop within `validate()`; incomplete or not called `_val_postiter_processing()`.\n",
      "Interrupted: train[no], validation[yes].\n",
      "\n",
      "Flags checked:\n",
      "\t_train_loop_done          = True\n",
      "\t_train_postiter_processed = True\n",
      "\t_val_loop_done            = False\n",
      "\t_val_postiter_processed   = False\n"
     ]
    },
    {
     "data": {
      "text/plain": [
       "(False, True)"
      ]
     },
     "execution_count": 16,
     "metadata": {},
     "output_type": "execute_result"
    }
   ],
   "source": [
    "tg._val_loop_done = False\n",
    "tg._val_postiter_processed = False\n",
    "tg.interrupt_status()"
   ]
  },
  {
   "cell_type": "code",
   "execution_count": 18,
   "metadata": {},
   "outputs": [
    {
     "name": "stdout",
     "output_type": "stream",
     "text": [
      "Help on method train in module deeptrain.train_generator:\n",
      "\n",
      "train() method of deeptrain.train_generator.TrainGenerator instance\n",
      "    The train loop.\n",
      "    \n",
      "        - Fetches data from `get_data`\n",
      "        - Fits data via `fin_fn`\n",
      "        - Processes fit metrics in `_train_postiter_processing`\n",
      "        - Stores metrics in `history`\n",
      "        - Applies `'train:iter'`, `'train:batch'`, and `'train:epoch'`\n",
      "          callbacks\n",
      "        - Calls `validate` when appropriate\n",
      "    \n",
      "    **Interruption**:\n",
      "    \n",
      "        - *Safe*: during `get_data`, which can be called indefinitely\n",
      "          without changing any attributes.\n",
      "        - *Avoid*: during `_train_postiter_processing`, where `fit_fn` is\n",
      "          applied and weights are updated - but metrics aren't stored, and\n",
      "          `_train_postiter_processed=False`, restarting the loop without\n",
      "          recording progress.\n",
      "        - Best bet is during :meth:`validate`, as `get_data` may be too brief.\n",
      "\n"
     ]
    }
   ],
   "source": [
    "help(tg.train)"
   ]
  },
  {
   "cell_type": "code",
   "execution_count": 19,
   "metadata": {},
   "outputs": [
    {
     "name": "stdout",
     "output_type": "stream",
     "text": [
      "Help on method validate in module deeptrain.train_generator:\n",
      "\n",
      "validate(record_progress=True, clear_cache=True, restart=False, use_callbacks=True) method of deeptrain.train_generator.TrainGenerator instance\n",
      "    Validation loop.\n",
      "    \n",
      "        - Fetches data from `get_data`\n",
      "        - Applies function based on `eval_fn_name`\n",
      "        - Processes and caches metrics/predictions in\n",
      "          `_val_postiter_processing`\n",
      "        - Applies `'val:iter'`, `'val:batch'`, and `'val:epoch'` callbacks\n",
      "        - Calls `_on_val_end` at end of validation to compute metrics\n",
      "          and store them in `val_history`\n",
      "        - Applies `'val_end'` and maybe `('val_end': 'train:epoch')` callbacks\n",
      "        - If `restart`, calls :meth:`reset_validation`.\n",
      "    \n",
      "    **Arguments**:\n",
      "        record_progress: bool\n",
      "            If False, won't update `val_history`, `_val_iters`,\n",
      "            `_batches_validated`.\n",
      "        clear_cache: bool\n",
      "            If False, won't call :meth:`clear_cache`; useful for keeping\n",
      "            preds & labels acquired during validation.\n",
      "        restart: bool\n",
      "            If True, will call :meth:`reset_valiation` before validation loop\n",
      "            to reset validation attributes; useful for starting afresh (e.g.\n",
      "            if interrupted).\n",
      "        use_callbacks: bool\n",
      "            If False, won't call :meth:`apply_callbacks`\n",
      "            or :meth:`plot_history`.\n",
      "    \n",
      "    **Interruption:**\n",
      "    \n",
      "        - *Safe*: during `get_data`, which can be called indefinitely\n",
      "          without changing any attributes.\n",
      "        - *Avoid*: during `_val_postiter_processing`. Model remains\n",
      "          unaffected*, but caches are updated; a restart may yield duplicate\n",
      "          appending, which will error or yield inaccuracies.\n",
      "          (* forward pass may consume random seed if random ops are used)\n",
      "        - *In practice*: prefer interrupting immediately after\n",
      "          `_print_iter_progress` executes.\n",
      "\n"
     ]
    }
   ],
   "source": [
    "help(tg.validate)"
   ]
  },
  {
   "cell_type": "markdown",
   "metadata": {},
   "source": [
    "Interrupts can also be inspected by checking `temp_history`, `val_temp_history`, and cache attributes (e.g. `_preds_cache`); <br> cache attributes clear by default when `validate()` finishes.<br> Check `help(train)` and `help(validate)` for further interrupt guidelines."
   ]
  },
  {
   "cell_type": "markdown",
   "metadata": {},
   "source": [
    "### DataGenerator attributes"
   ]
  },
  {
   "cell_type": "code",
   "execution_count": 20,
   "metadata": {},
   "outputs": [
    {
     "name": "stdout",
     "output_type": "stream",
     "text": [
      "['8', '7', '31', '14', '28', '10', '37', '38', '19', '15', '33', '29', '49', '32', '16', '1', '30', '47', '34', '36', '21', '20', '23', '50', '3', '2', '39', '41', '48', '24', '9', '42', '27', '22', '44', '4', '18', '40', '26', '11', '6', '17', '12', '5', '35', '25', '45', '13', '46', '43']\n",
      "['1', '2', '3', '4', '5', '6', '7', '8', '9', '10', '11', '12', '13', '14', '15', '16', '17', '18', '19', '20', '21', '22', '23', '24', '25', '26', '27', '28', '29', '30', '31', '32', '33', '34', '35', '36']\n"
     ]
    }
   ],
   "source": [
    "# We can check which set numbers remain to be processed in epoch or validation:\n",
    "print(dg.set_nums_to_process)\n",
    "print(vdg.set_nums_to_process)\n",
    "# We can arbitrarily append to or pop from the list to skip or repeat a batch"
   ]
  },
  {
   "cell_type": "markdown",
   "metadata": {},
   "source": [
    "### Info function\n",
    "Lastly, we can access most of the above via `info()`:"
   ]
  },
  {
   "cell_type": "code",
   "execution_count": 21,
   "metadata": {},
   "outputs": [
    {
     "name": "stdout",
     "output_type": "stream",
     "text": [
      "Epochs: 1/1\n",
      "Train batches fit: 0/50 (in current epoch)\n",
      "Val   batches fit: 0/36 (in current validation)\n",
      "--------------------------------------------------------------------------------\n",
      "Best model directory: C:\\Users\\OverL\\Desktop\\School\\Deep Learning\\DL_Code\\dev_tg\\examples\\dir\\outputs\\models\n",
      "Checkpoint directory: C:\\Users\\OverL\\Desktop\\School\\Deep Learning\\DL_Code\\dev_tg\\examples\\dir\\outputs\\logs\\M43__model-nadam__min999.000\n",
      "Load path: None\n",
      "Model full name: M43__model-nadam__min.142\n",
      "--------------------------------------------------------------------------------\n",
      "Interrupted during validation loop within `validate()`; incomplete or not called `_val_postiter_processing()`.\n",
      "Interrupted: train[no], validation[yes].\n",
      "\n",
      "Flags checked:\n",
      "\t_train_loop_done          = True\n",
      "\t_train_postiter_processed = True\n",
      "\t_val_loop_done            = False\n",
      "\t_val_postiter_processed   = False\n"
     ]
    }
   ],
   "source": [
    "tg.info()"
   ]
  }
 ],
 "metadata": {
  "kernelspec": {
   "display_name": "Python 3",
   "language": "python",
   "name": "python3"
  },
  "language_info": {
   "codemirror_mode": {
    "name": "ipython",
    "version": 3
   },
   "file_extension": ".py",
   "mimetype": "text/x-python",
   "name": "python",
   "nbconvert_exporter": "python",
   "pygments_lexer": "ipython3",
   "version": "3.7.7"
  }
 },
 "nbformat": 4,
 "nbformat_minor": 4
}
